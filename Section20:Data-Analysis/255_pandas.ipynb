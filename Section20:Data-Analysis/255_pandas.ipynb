{
 "cells": [
  {
   "cell_type": "code",
   "execution_count": 4,
   "outputs": [],
   "source": [
    "import numpy as np\n",
    "import pandas as pd"
   ],
   "metadata": {
    "collapsed": false,
    "pycharm": {
     "name": "#%%\n",
     "is_executing": false
    }
   }
  },
  {
   "cell_type": "code",
   "execution_count": 5,
   "outputs": [
    {
     "data": {
      "text/plain": "0    1.0\n1    2.0\n2    NaN\ndtype: float64"
     },
     "metadata": {},
     "output_type": "execute_result",
     "execution_count": 5
    }
   ],
   "source": [
    "s = pd.Series([1, 2, np.nan])\n",
    "s"
   ],
   "metadata": {
    "collapsed": false,
    "pycharm": {
     "name": "#%%\n",
     "is_executing": false
    }
   }
  },
  {
   "cell_type": "code",
   "execution_count": 6,
   "outputs": [
    {
     "data": {
      "text/plain": "1.0"
     },
     "metadata": {},
     "output_type": "execute_result",
     "execution_count": 6
    }
   ],
   "source": [
    "s[0]"
   ],
   "metadata": {
    "collapsed": false,
    "pycharm": {
     "name": "#%%\n",
     "is_executing": false
    }
   }
  },
  {
   "cell_type": "code",
   "execution_count": 7,
   "outputs": [
    {
     "data": {
      "text/plain": "3.0"
     },
     "metadata": {},
     "output_type": "execute_result",
     "execution_count": 7
    }
   ],
   "source": [
    "s.sum()"
   ],
   "metadata": {
    "collapsed": false,
    "pycharm": {
     "name": "#%%\n",
     "is_executing": false
    }
   }
  },
  {
   "cell_type": "code",
   "execution_count": 8,
   "outputs": [
    {
     "data": {
      "text/plain": "   A  B\n0  1  3\n1  2  4",
      "text/html": "<div>\n<style scoped>\n    .dataframe tbody tr th:only-of-type {\n        vertical-align: middle;\n    }\n\n    .dataframe tbody tr th {\n        vertical-align: top;\n    }\n\n    .dataframe thead th {\n        text-align: right;\n    }\n</style>\n<table border=\"1\" class=\"dataframe\">\n  <thead>\n    <tr style=\"text-align: right;\">\n      <th></th>\n      <th>A</th>\n      <th>B</th>\n    </tr>\n  </thead>\n  <tbody>\n    <tr>\n      <th>0</th>\n      <td>1</td>\n      <td>3</td>\n    </tr>\n    <tr>\n      <th>1</th>\n      <td>2</td>\n      <td>4</td>\n    </tr>\n  </tbody>\n</table>\n</div>"
     },
     "metadata": {},
     "output_type": "execute_result",
     "execution_count": 8
    }
   ],
   "source": [
    "df = pd.DataFrame({'A': [1, 2], 'B': [3, 4]})\n",
    "df"
   ],
   "metadata": {
    "collapsed": false,
    "pycharm": {
     "name": "#%%\n",
     "is_executing": false
    }
   }
  },
  {
   "cell_type": "code",
   "execution_count": 9,
   "outputs": [
    {
     "data": {
      "text/plain": "A    int64\nB    int64\ndtype: object"
     },
     "metadata": {},
     "output_type": "execute_result",
     "execution_count": 9
    }
   ],
   "source": [
    "df.dtypes"
   ],
   "metadata": {
    "collapsed": false,
    "pycharm": {
     "name": "#%%\n",
     "is_executing": false
    }
   }
  },
  {
   "cell_type": "code",
   "execution_count": 10,
   "outputs": [
    {
     "data": {
      "text/plain": "          0         1         2         3\n0  0.643080 -0.956475 -0.347416  1.032976\n1 -0.434631  1.147824 -0.428845 -0.863239\n2 -0.881193  0.170423  0.974174 -0.584889\n3  0.584497  1.454482 -0.932223  0.046407\n4 -0.112631  0.223508 -0.297641 -0.503021\n5 -0.255148  1.155072  0.209867 -0.782095",
      "text/html": "<div>\n<style scoped>\n    .dataframe tbody tr th:only-of-type {\n        vertical-align: middle;\n    }\n\n    .dataframe tbody tr th {\n        vertical-align: top;\n    }\n\n    .dataframe thead th {\n        text-align: right;\n    }\n</style>\n<table border=\"1\" class=\"dataframe\">\n  <thead>\n    <tr style=\"text-align: right;\">\n      <th></th>\n      <th>0</th>\n      <th>1</th>\n      <th>2</th>\n      <th>3</th>\n    </tr>\n  </thead>\n  <tbody>\n    <tr>\n      <th>0</th>\n      <td>0.643080</td>\n      <td>-0.956475</td>\n      <td>-0.347416</td>\n      <td>1.032976</td>\n    </tr>\n    <tr>\n      <th>1</th>\n      <td>-0.434631</td>\n      <td>1.147824</td>\n      <td>-0.428845</td>\n      <td>-0.863239</td>\n    </tr>\n    <tr>\n      <th>2</th>\n      <td>-0.881193</td>\n      <td>0.170423</td>\n      <td>0.974174</td>\n      <td>-0.584889</td>\n    </tr>\n    <tr>\n      <th>3</th>\n      <td>0.584497</td>\n      <td>1.454482</td>\n      <td>-0.932223</td>\n      <td>0.046407</td>\n    </tr>\n    <tr>\n      <th>4</th>\n      <td>-0.112631</td>\n      <td>0.223508</td>\n      <td>-0.297641</td>\n      <td>-0.503021</td>\n    </tr>\n    <tr>\n      <th>5</th>\n      <td>-0.255148</td>\n      <td>1.155072</td>\n      <td>0.209867</td>\n      <td>-0.782095</td>\n    </tr>\n  </tbody>\n</table>\n</div>"
     },
     "metadata": {},
     "output_type": "execute_result",
     "execution_count": 10
    }
   ],
   "source": [
    "df = pd.DataFrame(np.random.randn(6, 4))\n",
    "df"
   ],
   "metadata": {
    "collapsed": false,
    "pycharm": {
     "name": "#%%\n",
     "is_executing": false
    }
   }
  },
  {
   "cell_type": "code",
   "execution_count": 11,
   "outputs": [
    {
     "data": {
      "text/plain": "                   0         1         2         3\n2019-01-01  0.035789  0.826909 -0.359823  0.130929\n2019-01-02  1.016112 -1.478778 -1.109303  0.069794\n2019-01-03  0.753408 -0.098964 -0.208100 -0.698632\n2019-01-04  0.543995 -0.516921  0.605267  1.442445\n2019-01-05  2.215576  1.430506 -1.394405 -0.300153\n2019-01-06 -1.388088  0.170358 -1.233190  0.560064",
      "text/html": "<div>\n<style scoped>\n    .dataframe tbody tr th:only-of-type {\n        vertical-align: middle;\n    }\n\n    .dataframe tbody tr th {\n        vertical-align: top;\n    }\n\n    .dataframe thead th {\n        text-align: right;\n    }\n</style>\n<table border=\"1\" class=\"dataframe\">\n  <thead>\n    <tr style=\"text-align: right;\">\n      <th></th>\n      <th>0</th>\n      <th>1</th>\n      <th>2</th>\n      <th>3</th>\n    </tr>\n  </thead>\n  <tbody>\n    <tr>\n      <th>2019-01-01</th>\n      <td>0.035789</td>\n      <td>0.826909</td>\n      <td>-0.359823</td>\n      <td>0.130929</td>\n    </tr>\n    <tr>\n      <th>2019-01-02</th>\n      <td>1.016112</td>\n      <td>-1.478778</td>\n      <td>-1.109303</td>\n      <td>0.069794</td>\n    </tr>\n    <tr>\n      <th>2019-01-03</th>\n      <td>0.753408</td>\n      <td>-0.098964</td>\n      <td>-0.208100</td>\n      <td>-0.698632</td>\n    </tr>\n    <tr>\n      <th>2019-01-04</th>\n      <td>0.543995</td>\n      <td>-0.516921</td>\n      <td>0.605267</td>\n      <td>1.442445</td>\n    </tr>\n    <tr>\n      <th>2019-01-05</th>\n      <td>2.215576</td>\n      <td>1.430506</td>\n      <td>-1.394405</td>\n      <td>-0.300153</td>\n    </tr>\n    <tr>\n      <th>2019-01-06</th>\n      <td>-1.388088</td>\n      <td>0.170358</td>\n      <td>-1.233190</td>\n      <td>0.560064</td>\n    </tr>\n  </tbody>\n</table>\n</div>"
     },
     "metadata": {},
     "output_type": "execute_result",
     "execution_count": 11
    }
   ],
   "source": [
    "df = pd.DataFrame(np.random.randn(6, 4),\n",
    "                  index=pd.date_range('20190101', periods=6))\n",
    "df"
   ],
   "metadata": {
    "collapsed": false,
    "pycharm": {
     "name": "#%%\n",
     "is_executing": false
    }
   }
  },
  {
   "cell_type": "code",
   "execution_count": 12,
   "outputs": [
    {
     "data": {
      "text/plain": "                   A         B         C         D\n2019-01-01 -0.226710 -2.172492  0.342776  0.651891\n2019-01-02  0.337910 -1.956179 -0.346803  0.725551\n2019-01-03  0.390363  0.418912 -1.742910  0.068620\n2019-01-04  0.274556  0.638731 -0.400413 -0.224958\n2019-01-05  1.114094 -0.920709 -0.064068 -0.152234\n2019-01-06 -0.140487  1.653017 -1.752702 -0.610021",
      "text/html": "<div>\n<style scoped>\n    .dataframe tbody tr th:only-of-type {\n        vertical-align: middle;\n    }\n\n    .dataframe tbody tr th {\n        vertical-align: top;\n    }\n\n    .dataframe thead th {\n        text-align: right;\n    }\n</style>\n<table border=\"1\" class=\"dataframe\">\n  <thead>\n    <tr style=\"text-align: right;\">\n      <th></th>\n      <th>A</th>\n      <th>B</th>\n      <th>C</th>\n      <th>D</th>\n    </tr>\n  </thead>\n  <tbody>\n    <tr>\n      <th>2019-01-01</th>\n      <td>-0.226710</td>\n      <td>-2.172492</td>\n      <td>0.342776</td>\n      <td>0.651891</td>\n    </tr>\n    <tr>\n      <th>2019-01-02</th>\n      <td>0.337910</td>\n      <td>-1.956179</td>\n      <td>-0.346803</td>\n      <td>0.725551</td>\n    </tr>\n    <tr>\n      <th>2019-01-03</th>\n      <td>0.390363</td>\n      <td>0.418912</td>\n      <td>-1.742910</td>\n      <td>0.068620</td>\n    </tr>\n    <tr>\n      <th>2019-01-04</th>\n      <td>0.274556</td>\n      <td>0.638731</td>\n      <td>-0.400413</td>\n      <td>-0.224958</td>\n    </tr>\n    <tr>\n      <th>2019-01-05</th>\n      <td>1.114094</td>\n      <td>-0.920709</td>\n      <td>-0.064068</td>\n      <td>-0.152234</td>\n    </tr>\n    <tr>\n      <th>2019-01-06</th>\n      <td>-0.140487</td>\n      <td>1.653017</td>\n      <td>-1.752702</td>\n      <td>-0.610021</td>\n    </tr>\n  </tbody>\n</table>\n</div>"
     },
     "metadata": {},
     "output_type": "execute_result",
     "execution_count": 12
    }
   ],
   "source": [
    "df = pd.DataFrame(np.random.randn(6, 4),\n",
    "                  index=pd.date_range('20190101', periods=6),\n",
    "                  columns=['A', 'B', 'C', 'D'])\n",
    "df"
   ],
   "metadata": {
    "collapsed": false,
    "pycharm": {
     "name": "#%%\n",
     "is_executing": false
    }
   }
  },
  {
   "cell_type": "code",
   "execution_count": 13,
   "outputs": [
    {
     "data": {
      "text/plain": "                  A         B         C         D\n2019-01-01 -0.22671 -2.172492  0.342776  0.651891",
      "text/html": "<div>\n<style scoped>\n    .dataframe tbody tr th:only-of-type {\n        vertical-align: middle;\n    }\n\n    .dataframe tbody tr th {\n        vertical-align: top;\n    }\n\n    .dataframe thead th {\n        text-align: right;\n    }\n</style>\n<table border=\"1\" class=\"dataframe\">\n  <thead>\n    <tr style=\"text-align: right;\">\n      <th></th>\n      <th>A</th>\n      <th>B</th>\n      <th>C</th>\n      <th>D</th>\n    </tr>\n  </thead>\n  <tbody>\n    <tr>\n      <th>2019-01-01</th>\n      <td>-0.22671</td>\n      <td>-2.172492</td>\n      <td>0.342776</td>\n      <td>0.651891</td>\n    </tr>\n  </tbody>\n</table>\n</div>"
     },
     "metadata": {},
     "output_type": "execute_result",
     "execution_count": 13
    }
   ],
   "source": [
    "df.head(1)"
   ],
   "metadata": {
    "collapsed": false,
    "pycharm": {
     "name": "#%%\n",
     "is_executing": false
    }
   }
  },
  {
   "cell_type": "code",
   "execution_count": 14,
   "outputs": [
    {
     "data": {
      "text/plain": "                   A         B         C         D\n2019-01-04  0.274556  0.638731 -0.400413 -0.224958\n2019-01-05  1.114094 -0.920709 -0.064068 -0.152234\n2019-01-06 -0.140487  1.653017 -1.752702 -0.610021",
      "text/html": "<div>\n<style scoped>\n    .dataframe tbody tr th:only-of-type {\n        vertical-align: middle;\n    }\n\n    .dataframe tbody tr th {\n        vertical-align: top;\n    }\n\n    .dataframe thead th {\n        text-align: right;\n    }\n</style>\n<table border=\"1\" class=\"dataframe\">\n  <thead>\n    <tr style=\"text-align: right;\">\n      <th></th>\n      <th>A</th>\n      <th>B</th>\n      <th>C</th>\n      <th>D</th>\n    </tr>\n  </thead>\n  <tbody>\n    <tr>\n      <th>2019-01-04</th>\n      <td>0.274556</td>\n      <td>0.638731</td>\n      <td>-0.400413</td>\n      <td>-0.224958</td>\n    </tr>\n    <tr>\n      <th>2019-01-05</th>\n      <td>1.114094</td>\n      <td>-0.920709</td>\n      <td>-0.064068</td>\n      <td>-0.152234</td>\n    </tr>\n    <tr>\n      <th>2019-01-06</th>\n      <td>-0.140487</td>\n      <td>1.653017</td>\n      <td>-1.752702</td>\n      <td>-0.610021</td>\n    </tr>\n  </tbody>\n</table>\n</div>"
     },
     "metadata": {},
     "output_type": "execute_result",
     "execution_count": 14
    }
   ],
   "source": [
    "df.tail(3)"
   ],
   "metadata": {
    "collapsed": false,
    "pycharm": {
     "name": "#%%\n",
     "is_executing": false
    }
   }
  },
  {
   "cell_type": "code",
   "execution_count": 15,
   "outputs": [
    {
     "data": {
      "text/plain": "DatetimeIndex(['2019-01-01', '2019-01-02', '2019-01-03', '2019-01-04',\n               '2019-01-05', '2019-01-06'],\n              dtype='datetime64[ns]', freq='D')"
     },
     "metadata": {},
     "output_type": "execute_result",
     "execution_count": 15
    }
   ],
   "source": [
    "df.index"
   ],
   "metadata": {
    "collapsed": false,
    "pycharm": {
     "name": "#%%\n",
     "is_executing": false
    }
   }
  },
  {
   "cell_type": "code",
   "execution_count": 16,
   "outputs": [
    {
     "data": {
      "text/plain": "Index(['A', 'B', 'C', 'D'], dtype='object')"
     },
     "metadata": {},
     "output_type": "execute_result",
     "execution_count": 16
    }
   ],
   "source": [
    "df.columns"
   ],
   "metadata": {
    "collapsed": false,
    "pycharm": {
     "name": "#%%\n",
     "is_executing": false
    }
   }
  },
  {
   "cell_type": "code",
   "execution_count": 17,
   "outputs": [
    {
     "data": {
      "text/plain": "array([[-0.2267102 , -2.17249209,  0.34277609,  0.65189119],\n       [ 0.3379099 , -1.95617883, -0.34680339,  0.72555107],\n       [ 0.39036261,  0.41891176, -1.7429096 ,  0.06861984],\n       [ 0.27455587,  0.63873112, -0.40041278, -0.22495823],\n       [ 1.11409394, -0.92070908, -0.06406804, -0.15223428],\n       [-0.14048687,  1.6530171 , -1.75270186, -0.61002093]])"
     },
     "metadata": {},
     "output_type": "execute_result",
     "execution_count": 17
    }
   ],
   "source": [
    "df.values"
   ],
   "metadata": {
    "collapsed": false,
    "pycharm": {
     "name": "#%%\n",
     "is_executing": false
    }
   }
  },
  {
   "cell_type": "code",
   "execution_count": 18,
   "outputs": [
    {
     "data": {
      "text/plain": "              A         B         C         D\ncount  6.000000  6.000000  6.000000  6.000000\nmean   0.291621 -0.389787 -0.660687  0.076475\nstd    0.478337  1.536124  0.882367  0.522860\nmin   -0.226710 -2.172492 -1.752702 -0.610021\n25%   -0.036726 -1.697311 -1.407285 -0.206777\n50%    0.306233 -0.250899 -0.373608 -0.041807\n75%    0.377249  0.583776 -0.134752  0.506073\nmax    1.114094  1.653017  0.342776  0.725551",
      "text/html": "<div>\n<style scoped>\n    .dataframe tbody tr th:only-of-type {\n        vertical-align: middle;\n    }\n\n    .dataframe tbody tr th {\n        vertical-align: top;\n    }\n\n    .dataframe thead th {\n        text-align: right;\n    }\n</style>\n<table border=\"1\" class=\"dataframe\">\n  <thead>\n    <tr style=\"text-align: right;\">\n      <th></th>\n      <th>A</th>\n      <th>B</th>\n      <th>C</th>\n      <th>D</th>\n    </tr>\n  </thead>\n  <tbody>\n    <tr>\n      <th>count</th>\n      <td>6.000000</td>\n      <td>6.000000</td>\n      <td>6.000000</td>\n      <td>6.000000</td>\n    </tr>\n    <tr>\n      <th>mean</th>\n      <td>0.291621</td>\n      <td>-0.389787</td>\n      <td>-0.660687</td>\n      <td>0.076475</td>\n    </tr>\n    <tr>\n      <th>std</th>\n      <td>0.478337</td>\n      <td>1.536124</td>\n      <td>0.882367</td>\n      <td>0.522860</td>\n    </tr>\n    <tr>\n      <th>min</th>\n      <td>-0.226710</td>\n      <td>-2.172492</td>\n      <td>-1.752702</td>\n      <td>-0.610021</td>\n    </tr>\n    <tr>\n      <th>25%</th>\n      <td>-0.036726</td>\n      <td>-1.697311</td>\n      <td>-1.407285</td>\n      <td>-0.206777</td>\n    </tr>\n    <tr>\n      <th>50%</th>\n      <td>0.306233</td>\n      <td>-0.250899</td>\n      <td>-0.373608</td>\n      <td>-0.041807</td>\n    </tr>\n    <tr>\n      <th>75%</th>\n      <td>0.377249</td>\n      <td>0.583776</td>\n      <td>-0.134752</td>\n      <td>0.506073</td>\n    </tr>\n    <tr>\n      <th>max</th>\n      <td>1.114094</td>\n      <td>1.653017</td>\n      <td>0.342776</td>\n      <td>0.725551</td>\n    </tr>\n  </tbody>\n</table>\n</div>"
     },
     "metadata": {},
     "output_type": "execute_result",
     "execution_count": 18
    }
   ],
   "source": [
    "df.describe()"
   ],
   "metadata": {
    "collapsed": false,
    "pycharm": {
     "name": "#%%\n",
     "is_executing": false
    }
   }
  },
  {
   "cell_type": "code",
   "execution_count": 19,
   "outputs": [
    {
     "data": {
      "text/plain": "   2019-01-01  2019-01-02  2019-01-03  2019-01-04  2019-01-05  2019-01-06\nA   -0.226710    0.337910    0.390363    0.274556    1.114094   -0.140487\nB   -2.172492   -1.956179    0.418912    0.638731   -0.920709    1.653017\nC    0.342776   -0.346803   -1.742910   -0.400413   -0.064068   -1.752702\nD    0.651891    0.725551    0.068620   -0.224958   -0.152234   -0.610021",
      "text/html": "<div>\n<style scoped>\n    .dataframe tbody tr th:only-of-type {\n        vertical-align: middle;\n    }\n\n    .dataframe tbody tr th {\n        vertical-align: top;\n    }\n\n    .dataframe thead th {\n        text-align: right;\n    }\n</style>\n<table border=\"1\" class=\"dataframe\">\n  <thead>\n    <tr style=\"text-align: right;\">\n      <th></th>\n      <th>2019-01-01 00:00:00</th>\n      <th>2019-01-02 00:00:00</th>\n      <th>2019-01-03 00:00:00</th>\n      <th>2019-01-04 00:00:00</th>\n      <th>2019-01-05 00:00:00</th>\n      <th>2019-01-06 00:00:00</th>\n    </tr>\n  </thead>\n  <tbody>\n    <tr>\n      <th>A</th>\n      <td>-0.226710</td>\n      <td>0.337910</td>\n      <td>0.390363</td>\n      <td>0.274556</td>\n      <td>1.114094</td>\n      <td>-0.140487</td>\n    </tr>\n    <tr>\n      <th>B</th>\n      <td>-2.172492</td>\n      <td>-1.956179</td>\n      <td>0.418912</td>\n      <td>0.638731</td>\n      <td>-0.920709</td>\n      <td>1.653017</td>\n    </tr>\n    <tr>\n      <th>C</th>\n      <td>0.342776</td>\n      <td>-0.346803</td>\n      <td>-1.742910</td>\n      <td>-0.400413</td>\n      <td>-0.064068</td>\n      <td>-1.752702</td>\n    </tr>\n    <tr>\n      <th>D</th>\n      <td>0.651891</td>\n      <td>0.725551</td>\n      <td>0.068620</td>\n      <td>-0.224958</td>\n      <td>-0.152234</td>\n      <td>-0.610021</td>\n    </tr>\n  </tbody>\n</table>\n</div>"
     },
     "metadata": {},
     "output_type": "execute_result",
     "execution_count": 19
    }
   ],
   "source": [
    "df.T"
   ],
   "metadata": {
    "collapsed": false,
    "pycharm": {
     "name": "#%%\n",
     "is_executing": false
    }
   }
  },
  {
   "cell_type": "code",
   "execution_count": 20,
   "outputs": [
    {
     "data": {
      "text/plain": "                   A         B         C         D\n2019-01-01 -0.226710 -2.172492  0.342776  0.651891\n2019-01-02  0.337910 -1.956179 -0.346803  0.725551\n2019-01-05  1.114094 -0.920709 -0.064068 -0.152234\n2019-01-03  0.390363  0.418912 -1.742910  0.068620\n2019-01-04  0.274556  0.638731 -0.400413 -0.224958\n2019-01-06 -0.140487  1.653017 -1.752702 -0.610021",
      "text/html": "<div>\n<style scoped>\n    .dataframe tbody tr th:only-of-type {\n        vertical-align: middle;\n    }\n\n    .dataframe tbody tr th {\n        vertical-align: top;\n    }\n\n    .dataframe thead th {\n        text-align: right;\n    }\n</style>\n<table border=\"1\" class=\"dataframe\">\n  <thead>\n    <tr style=\"text-align: right;\">\n      <th></th>\n      <th>A</th>\n      <th>B</th>\n      <th>C</th>\n      <th>D</th>\n    </tr>\n  </thead>\n  <tbody>\n    <tr>\n      <th>2019-01-01</th>\n      <td>-0.226710</td>\n      <td>-2.172492</td>\n      <td>0.342776</td>\n      <td>0.651891</td>\n    </tr>\n    <tr>\n      <th>2019-01-02</th>\n      <td>0.337910</td>\n      <td>-1.956179</td>\n      <td>-0.346803</td>\n      <td>0.725551</td>\n    </tr>\n    <tr>\n      <th>2019-01-05</th>\n      <td>1.114094</td>\n      <td>-0.920709</td>\n      <td>-0.064068</td>\n      <td>-0.152234</td>\n    </tr>\n    <tr>\n      <th>2019-01-03</th>\n      <td>0.390363</td>\n      <td>0.418912</td>\n      <td>-1.742910</td>\n      <td>0.068620</td>\n    </tr>\n    <tr>\n      <th>2019-01-04</th>\n      <td>0.274556</td>\n      <td>0.638731</td>\n      <td>-0.400413</td>\n      <td>-0.224958</td>\n    </tr>\n    <tr>\n      <th>2019-01-06</th>\n      <td>-0.140487</td>\n      <td>1.653017</td>\n      <td>-1.752702</td>\n      <td>-0.610021</td>\n    </tr>\n  </tbody>\n</table>\n</div>"
     },
     "metadata": {},
     "output_type": "execute_result",
     "execution_count": 20
    }
   ],
   "source": [
    "df.sort_values(by='B')"
   ],
   "metadata": {
    "collapsed": false,
    "pycharm": {
     "name": "#%%\n",
     "is_executing": false
    }
   }
  },
  {
   "cell_type": "code",
   "execution_count": 21,
   "outputs": [
    {
     "data": {
      "text/plain": "                   A         B         C         D\n2019-01-01 -0.226710 -2.172492  0.342776  0.651891\n2019-01-02  0.337910 -1.956179 -0.346803  0.725551\n2019-01-03  0.390363  0.418912 -1.742910  0.068620",
      "text/html": "<div>\n<style scoped>\n    .dataframe tbody tr th:only-of-type {\n        vertical-align: middle;\n    }\n\n    .dataframe tbody tr th {\n        vertical-align: top;\n    }\n\n    .dataframe thead th {\n        text-align: right;\n    }\n</style>\n<table border=\"1\" class=\"dataframe\">\n  <thead>\n    <tr style=\"text-align: right;\">\n      <th></th>\n      <th>A</th>\n      <th>B</th>\n      <th>C</th>\n      <th>D</th>\n    </tr>\n  </thead>\n  <tbody>\n    <tr>\n      <th>2019-01-01</th>\n      <td>-0.226710</td>\n      <td>-2.172492</td>\n      <td>0.342776</td>\n      <td>0.651891</td>\n    </tr>\n    <tr>\n      <th>2019-01-02</th>\n      <td>0.337910</td>\n      <td>-1.956179</td>\n      <td>-0.346803</td>\n      <td>0.725551</td>\n    </tr>\n    <tr>\n      <th>2019-01-03</th>\n      <td>0.390363</td>\n      <td>0.418912</td>\n      <td>-1.742910</td>\n      <td>0.068620</td>\n    </tr>\n  </tbody>\n</table>\n</div>"
     },
     "metadata": {},
     "output_type": "execute_result",
     "execution_count": 21
    }
   ],
   "source": [
    "df[0:3]"
   ],
   "metadata": {
    "collapsed": false,
    "pycharm": {
     "name": "#%%\n",
     "is_executing": false
    }
   }
  },
  {
   "cell_type": "code",
   "execution_count": 22,
   "outputs": [
    {
     "data": {
      "text/plain": "                   A         B         C         D\n2019-01-02  0.337910 -1.956179 -0.346803  0.725551\n2019-01-03  0.390363  0.418912 -1.742910  0.068620\n2019-01-04  0.274556  0.638731 -0.400413 -0.224958",
      "text/html": "<div>\n<style scoped>\n    .dataframe tbody tr th:only-of-type {\n        vertical-align: middle;\n    }\n\n    .dataframe tbody tr th {\n        vertical-align: top;\n    }\n\n    .dataframe thead th {\n        text-align: right;\n    }\n</style>\n<table border=\"1\" class=\"dataframe\">\n  <thead>\n    <tr style=\"text-align: right;\">\n      <th></th>\n      <th>A</th>\n      <th>B</th>\n      <th>C</th>\n      <th>D</th>\n    </tr>\n  </thead>\n  <tbody>\n    <tr>\n      <th>2019-01-02</th>\n      <td>0.337910</td>\n      <td>-1.956179</td>\n      <td>-0.346803</td>\n      <td>0.725551</td>\n    </tr>\n    <tr>\n      <th>2019-01-03</th>\n      <td>0.390363</td>\n      <td>0.418912</td>\n      <td>-1.742910</td>\n      <td>0.068620</td>\n    </tr>\n    <tr>\n      <th>2019-01-04</th>\n      <td>0.274556</td>\n      <td>0.638731</td>\n      <td>-0.400413</td>\n      <td>-0.224958</td>\n    </tr>\n  </tbody>\n</table>\n</div>"
     },
     "metadata": {},
     "output_type": "execute_result",
     "execution_count": 22
    }
   ],
   "source": [
    "df['20190102':'20190104']"
   ],
   "metadata": {
    "collapsed": false,
    "pycharm": {
     "name": "#%%\n",
     "is_executing": false
    }
   }
  },
  {
   "cell_type": "code",
   "execution_count": 23,
   "outputs": [
    {
     "data": {
      "text/plain": "A   -0.226710\nB   -2.172492\nC    0.342776\nD    0.651891\nName: 2019-01-01 00:00:00, dtype: float64"
     },
     "metadata": {},
     "output_type": "execute_result",
     "execution_count": 23
    }
   ],
   "source": [
    "df.loc['20190101']"
   ],
   "metadata": {
    "collapsed": false,
    "pycharm": {
     "name": "#%%\n",
     "is_executing": false
    }
   }
  },
  {
   "cell_type": "code",
   "execution_count": 24,
   "outputs": [
    {
     "data": {
      "text/plain": "A    0.337910\nB   -1.956179\nName: 2019-01-02 00:00:00, dtype: float64"
     },
     "metadata": {},
     "output_type": "execute_result",
     "execution_count": 24
    }
   ],
   "source": [
    "df.loc['20190102', ['A', 'B']]"
   ],
   "metadata": {
    "collapsed": false,
    "pycharm": {
     "name": "#%%\n",
     "is_executing": false
    }
   }
  },
  {
   "cell_type": "code",
   "execution_count": 25,
   "outputs": [
    {
     "data": {
      "text/plain": "                   A         B\n2019-01-02  0.337910 -1.956179\n2019-01-03  0.390363  0.418912\n2019-01-04  0.274556  0.638731",
      "text/html": "<div>\n<style scoped>\n    .dataframe tbody tr th:only-of-type {\n        vertical-align: middle;\n    }\n\n    .dataframe tbody tr th {\n        vertical-align: top;\n    }\n\n    .dataframe thead th {\n        text-align: right;\n    }\n</style>\n<table border=\"1\" class=\"dataframe\">\n  <thead>\n    <tr style=\"text-align: right;\">\n      <th></th>\n      <th>A</th>\n      <th>B</th>\n    </tr>\n  </thead>\n  <tbody>\n    <tr>\n      <th>2019-01-02</th>\n      <td>0.337910</td>\n      <td>-1.956179</td>\n    </tr>\n    <tr>\n      <th>2019-01-03</th>\n      <td>0.390363</td>\n      <td>0.418912</td>\n    </tr>\n    <tr>\n      <th>2019-01-04</th>\n      <td>0.274556</td>\n      <td>0.638731</td>\n    </tr>\n  </tbody>\n</table>\n</div>"
     },
     "metadata": {},
     "output_type": "execute_result",
     "execution_count": 25
    }
   ],
   "source": [
    "df.loc['20190102':'20190104', ['A', 'B']]"
   ],
   "metadata": {
    "collapsed": false,
    "pycharm": {
     "name": "#%%\n",
     "is_executing": false
    }
   }
  },
  {
   "cell_type": "code",
   "execution_count": 26,
   "outputs": [
    {
     "data": {
      "text/plain": "                   A         B\n2019-01-01 -0.226710 -2.172492\n2019-01-02  0.337910 -1.956179\n2019-01-03  0.390363  0.418912\n2019-01-04  0.274556  0.638731\n2019-01-05  1.114094 -0.920709\n2019-01-06 -0.140487  1.653017",
      "text/html": "<div>\n<style scoped>\n    .dataframe tbody tr th:only-of-type {\n        vertical-align: middle;\n    }\n\n    .dataframe tbody tr th {\n        vertical-align: top;\n    }\n\n    .dataframe thead th {\n        text-align: right;\n    }\n</style>\n<table border=\"1\" class=\"dataframe\">\n  <thead>\n    <tr style=\"text-align: right;\">\n      <th></th>\n      <th>A</th>\n      <th>B</th>\n    </tr>\n  </thead>\n  <tbody>\n    <tr>\n      <th>2019-01-01</th>\n      <td>-0.226710</td>\n      <td>-2.172492</td>\n    </tr>\n    <tr>\n      <th>2019-01-02</th>\n      <td>0.337910</td>\n      <td>-1.956179</td>\n    </tr>\n    <tr>\n      <th>2019-01-03</th>\n      <td>0.390363</td>\n      <td>0.418912</td>\n    </tr>\n    <tr>\n      <th>2019-01-04</th>\n      <td>0.274556</td>\n      <td>0.638731</td>\n    </tr>\n    <tr>\n      <th>2019-01-05</th>\n      <td>1.114094</td>\n      <td>-0.920709</td>\n    </tr>\n    <tr>\n      <th>2019-01-06</th>\n      <td>-0.140487</td>\n      <td>1.653017</td>\n    </tr>\n  </tbody>\n</table>\n</div>"
     },
     "metadata": {},
     "output_type": "execute_result",
     "execution_count": 26
    }
   ],
   "source": [
    "df.loc[:, ['A', 'B']]"
   ],
   "metadata": {
    "collapsed": false,
    "pycharm": {
     "name": "#%%\n",
     "is_executing": false
    }
   }
  },
  {
   "cell_type": "code",
   "execution_count": null,
   "outputs": [
    {
     "data": {
      "text/plain": "-0.22671019800960973"
     },
     "metadata": {},
     "output_type": "execute_result",
     "execution_count": 27
    }
   ],
   "source": [
    "df.iloc[0, 0]"
   ],
   "metadata": {
    "collapsed": false,
    "pycharm": {
     "name": "#%%\n",
     "is_executing": true
    }
   }
  },
  {
   "cell_type": "code",
   "execution_count": 28,
   "outputs": [
    {
     "data": {
      "text/plain": "                  A         B\n2019-01-01 -0.22671 -2.172492\n2019-01-02  0.33791 -1.956179",
      "text/html": "<div>\n<style scoped>\n    .dataframe tbody tr th:only-of-type {\n        vertical-align: middle;\n    }\n\n    .dataframe tbody tr th {\n        vertical-align: top;\n    }\n\n    .dataframe thead th {\n        text-align: right;\n    }\n</style>\n<table border=\"1\" class=\"dataframe\">\n  <thead>\n    <tr style=\"text-align: right;\">\n      <th></th>\n      <th>A</th>\n      <th>B</th>\n    </tr>\n  </thead>\n  <tbody>\n    <tr>\n      <th>2019-01-01</th>\n      <td>-0.22671</td>\n      <td>-2.172492</td>\n    </tr>\n    <tr>\n      <th>2019-01-02</th>\n      <td>0.33791</td>\n      <td>-1.956179</td>\n    </tr>\n  </tbody>\n</table>\n</div>"
     },
     "metadata": {},
     "output_type": "execute_result",
     "execution_count": 28
    }
   ],
   "source": [
    "df.iloc[0:2, 0:2]"
   ],
   "metadata": {
    "collapsed": false,
    "pycharm": {
     "name": "#%%\n",
     "is_executing": false
    }
   }
  },
  {
   "cell_type": "code",
   "execution_count": 29,
   "outputs": [
    {
     "data": {
      "text/plain": "                   A         B         C         D\n2019-01-02  0.337910 -1.956179 -0.346803  0.725551\n2019-01-03  0.390363  0.418912 -1.742910  0.068620\n2019-01-04  0.274556  0.638731 -0.400413 -0.224958\n2019-01-05  1.114094 -0.920709 -0.064068 -0.152234",
      "text/html": "<div>\n<style scoped>\n    .dataframe tbody tr th:only-of-type {\n        vertical-align: middle;\n    }\n\n    .dataframe tbody tr th {\n        vertical-align: top;\n    }\n\n    .dataframe thead th {\n        text-align: right;\n    }\n</style>\n<table border=\"1\" class=\"dataframe\">\n  <thead>\n    <tr style=\"text-align: right;\">\n      <th></th>\n      <th>A</th>\n      <th>B</th>\n      <th>C</th>\n      <th>D</th>\n    </tr>\n  </thead>\n  <tbody>\n    <tr>\n      <th>2019-01-02</th>\n      <td>0.337910</td>\n      <td>-1.956179</td>\n      <td>-0.346803</td>\n      <td>0.725551</td>\n    </tr>\n    <tr>\n      <th>2019-01-03</th>\n      <td>0.390363</td>\n      <td>0.418912</td>\n      <td>-1.742910</td>\n      <td>0.068620</td>\n    </tr>\n    <tr>\n      <th>2019-01-04</th>\n      <td>0.274556</td>\n      <td>0.638731</td>\n      <td>-0.400413</td>\n      <td>-0.224958</td>\n    </tr>\n    <tr>\n      <th>2019-01-05</th>\n      <td>1.114094</td>\n      <td>-0.920709</td>\n      <td>-0.064068</td>\n      <td>-0.152234</td>\n    </tr>\n  </tbody>\n</table>\n</div>"
     },
     "metadata": {},
     "output_type": "execute_result",
     "execution_count": 29
    }
   ],
   "source": [
    "df[df.A > 0]"
   ],
   "metadata": {
    "collapsed": false,
    "pycharm": {
     "name": "#%%\n",
     "is_executing": false
    }
   }
  },
  {
   "cell_type": "code",
   "execution_count": 30,
   "outputs": [
    {
     "data": {
      "text/plain": "                   A         B         C         D\n2019-01-03  0.390363  0.418912 -1.742910  0.068620\n2019-01-04  0.274556  0.638731 -0.400413 -0.224958\n2019-01-06 -0.140487  1.653017 -1.752702 -0.610021",
      "text/html": "<div>\n<style scoped>\n    .dataframe tbody tr th:only-of-type {\n        vertical-align: middle;\n    }\n\n    .dataframe tbody tr th {\n        vertical-align: top;\n    }\n\n    .dataframe thead th {\n        text-align: right;\n    }\n</style>\n<table border=\"1\" class=\"dataframe\">\n  <thead>\n    <tr style=\"text-align: right;\">\n      <th></th>\n      <th>A</th>\n      <th>B</th>\n      <th>C</th>\n      <th>D</th>\n    </tr>\n  </thead>\n  <tbody>\n    <tr>\n      <th>2019-01-03</th>\n      <td>0.390363</td>\n      <td>0.418912</td>\n      <td>-1.742910</td>\n      <td>0.068620</td>\n    </tr>\n    <tr>\n      <th>2019-01-04</th>\n      <td>0.274556</td>\n      <td>0.638731</td>\n      <td>-0.400413</td>\n      <td>-0.224958</td>\n    </tr>\n    <tr>\n      <th>2019-01-06</th>\n      <td>-0.140487</td>\n      <td>1.653017</td>\n      <td>-1.752702</td>\n      <td>-0.610021</td>\n    </tr>\n  </tbody>\n</table>\n</div>"
     },
     "metadata": {},
     "output_type": "execute_result",
     "execution_count": 30
    }
   ],
   "source": [
    "df[df.B > 0]"
   ],
   "metadata": {
    "collapsed": false,
    "pycharm": {
     "name": "#%%\n",
     "is_executing": false
    }
   }
  },
  {
   "cell_type": "code",
   "execution_count": 31,
   "outputs": [
    {
     "data": {
      "text/plain": "                   A         B         C         D\n2019-01-01       NaN       NaN  0.342776  0.651891\n2019-01-02  0.337910       NaN       NaN  0.725551\n2019-01-03  0.390363  0.418912       NaN  0.068620\n2019-01-04  0.274556  0.638731       NaN       NaN\n2019-01-05  1.114094       NaN       NaN       NaN\n2019-01-06       NaN  1.653017       NaN       NaN",
      "text/html": "<div>\n<style scoped>\n    .dataframe tbody tr th:only-of-type {\n        vertical-align: middle;\n    }\n\n    .dataframe tbody tr th {\n        vertical-align: top;\n    }\n\n    .dataframe thead th {\n        text-align: right;\n    }\n</style>\n<table border=\"1\" class=\"dataframe\">\n  <thead>\n    <tr style=\"text-align: right;\">\n      <th></th>\n      <th>A</th>\n      <th>B</th>\n      <th>C</th>\n      <th>D</th>\n    </tr>\n  </thead>\n  <tbody>\n    <tr>\n      <th>2019-01-01</th>\n      <td>NaN</td>\n      <td>NaN</td>\n      <td>0.342776</td>\n      <td>0.651891</td>\n    </tr>\n    <tr>\n      <th>2019-01-02</th>\n      <td>0.337910</td>\n      <td>NaN</td>\n      <td>NaN</td>\n      <td>0.725551</td>\n    </tr>\n    <tr>\n      <th>2019-01-03</th>\n      <td>0.390363</td>\n      <td>0.418912</td>\n      <td>NaN</td>\n      <td>0.068620</td>\n    </tr>\n    <tr>\n      <th>2019-01-04</th>\n      <td>0.274556</td>\n      <td>0.638731</td>\n      <td>NaN</td>\n      <td>NaN</td>\n    </tr>\n    <tr>\n      <th>2019-01-05</th>\n      <td>1.114094</td>\n      <td>NaN</td>\n      <td>NaN</td>\n      <td>NaN</td>\n    </tr>\n    <tr>\n      <th>2019-01-06</th>\n      <td>NaN</td>\n      <td>1.653017</td>\n      <td>NaN</td>\n      <td>NaN</td>\n    </tr>\n  </tbody>\n</table>\n</div>"
     },
     "metadata": {},
     "output_type": "execute_result",
     "execution_count": 31
    }
   ],
   "source": [
    "df[df > 0]"
   ],
   "metadata": {
    "collapsed": false,
    "pycharm": {
     "name": "#%%\n",
     "is_executing": false
    }
   }
  },
  {
   "cell_type": "code",
   "execution_count": 32,
   "outputs": [
    {
     "data": {
      "text/plain": "                   A         B         C         D\n2019-01-01 -0.226710 -2.172492  0.342776  0.651891\n2019-01-02  0.337910 -1.956179 -0.346803  0.725551\n2019-01-03  0.390363  0.418912 -1.742910  0.068620\n2019-01-04  0.274556  0.638731 -0.400413 -0.224958\n2019-01-05  1.114094 -0.920709 -0.064068 -0.152234\n2019-01-06 -0.140487  1.653017 -1.752702 -0.610021",
      "text/html": "<div>\n<style scoped>\n    .dataframe tbody tr th:only-of-type {\n        vertical-align: middle;\n    }\n\n    .dataframe tbody tr th {\n        vertical-align: top;\n    }\n\n    .dataframe thead th {\n        text-align: right;\n    }\n</style>\n<table border=\"1\" class=\"dataframe\">\n  <thead>\n    <tr style=\"text-align: right;\">\n      <th></th>\n      <th>A</th>\n      <th>B</th>\n      <th>C</th>\n      <th>D</th>\n    </tr>\n  </thead>\n  <tbody>\n    <tr>\n      <th>2019-01-01</th>\n      <td>-0.226710</td>\n      <td>-2.172492</td>\n      <td>0.342776</td>\n      <td>0.651891</td>\n    </tr>\n    <tr>\n      <th>2019-01-02</th>\n      <td>0.337910</td>\n      <td>-1.956179</td>\n      <td>-0.346803</td>\n      <td>0.725551</td>\n    </tr>\n    <tr>\n      <th>2019-01-03</th>\n      <td>0.390363</td>\n      <td>0.418912</td>\n      <td>-1.742910</td>\n      <td>0.068620</td>\n    </tr>\n    <tr>\n      <th>2019-01-04</th>\n      <td>0.274556</td>\n      <td>0.638731</td>\n      <td>-0.400413</td>\n      <td>-0.224958</td>\n    </tr>\n    <tr>\n      <th>2019-01-05</th>\n      <td>1.114094</td>\n      <td>-0.920709</td>\n      <td>-0.064068</td>\n      <td>-0.152234</td>\n    </tr>\n    <tr>\n      <th>2019-01-06</th>\n      <td>-0.140487</td>\n      <td>1.653017</td>\n      <td>-1.752702</td>\n      <td>-0.610021</td>\n    </tr>\n  </tbody>\n</table>\n</div>"
     },
     "metadata": {},
     "output_type": "execute_result",
     "execution_count": 32
    }
   ],
   "source": [
    "df"
   ],
   "metadata": {
    "collapsed": false,
    "pycharm": {
     "name": "#%%\n",
     "is_executing": false
    }
   }
  },
  {
   "cell_type": "code",
   "execution_count": 33,
   "outputs": [
    {
     "data": {
      "text/plain": "                   A         B         C         D      E\n2019-01-01 -0.226710 -2.172492  0.342776  0.651891    one\n2019-01-02  0.337910 -1.956179 -0.346803  0.725551    one\n2019-01-03  0.390363  0.418912 -1.742910  0.068620    two\n2019-01-04  0.274556  0.638731 -0.400413 -0.224958  three\n2019-01-05  1.114094 -0.920709 -0.064068 -0.152234   four\n2019-01-06 -0.140487  1.653017 -1.752702 -0.610021  three",
      "text/html": "<div>\n<style scoped>\n    .dataframe tbody tr th:only-of-type {\n        vertical-align: middle;\n    }\n\n    .dataframe tbody tr th {\n        vertical-align: top;\n    }\n\n    .dataframe thead th {\n        text-align: right;\n    }\n</style>\n<table border=\"1\" class=\"dataframe\">\n  <thead>\n    <tr style=\"text-align: right;\">\n      <th></th>\n      <th>A</th>\n      <th>B</th>\n      <th>C</th>\n      <th>D</th>\n      <th>E</th>\n    </tr>\n  </thead>\n  <tbody>\n    <tr>\n      <th>2019-01-01</th>\n      <td>-0.226710</td>\n      <td>-2.172492</td>\n      <td>0.342776</td>\n      <td>0.651891</td>\n      <td>one</td>\n    </tr>\n    <tr>\n      <th>2019-01-02</th>\n      <td>0.337910</td>\n      <td>-1.956179</td>\n      <td>-0.346803</td>\n      <td>0.725551</td>\n      <td>one</td>\n    </tr>\n    <tr>\n      <th>2019-01-03</th>\n      <td>0.390363</td>\n      <td>0.418912</td>\n      <td>-1.742910</td>\n      <td>0.068620</td>\n      <td>two</td>\n    </tr>\n    <tr>\n      <th>2019-01-04</th>\n      <td>0.274556</td>\n      <td>0.638731</td>\n      <td>-0.400413</td>\n      <td>-0.224958</td>\n      <td>three</td>\n    </tr>\n    <tr>\n      <th>2019-01-05</th>\n      <td>1.114094</td>\n      <td>-0.920709</td>\n      <td>-0.064068</td>\n      <td>-0.152234</td>\n      <td>four</td>\n    </tr>\n    <tr>\n      <th>2019-01-06</th>\n      <td>-0.140487</td>\n      <td>1.653017</td>\n      <td>-1.752702</td>\n      <td>-0.610021</td>\n      <td>three</td>\n    </tr>\n  </tbody>\n</table>\n</div>"
     },
     "metadata": {},
     "output_type": "execute_result",
     "execution_count": 33
    }
   ],
   "source": [
    "df2 = df.copy()\n",
    "df2['E'] = ['one', 'one', 'two', 'three', 'four', 'three']\n",
    "df2"
   ],
   "metadata": {
    "collapsed": false,
    "pycharm": {
     "name": "#%%\n",
     "is_executing": false
    }
   }
  },
  {
   "cell_type": "code",
   "execution_count": 34,
   "outputs": [
    {
     "data": {
      "text/plain": "                   A         B         C         D     E\n2019-01-01 -0.226710 -2.172492  0.342776  0.651891   one\n2019-01-02  0.337910 -1.956179 -0.346803  0.725551   one\n2019-01-05  1.114094 -0.920709 -0.064068 -0.152234  four",
      "text/html": "<div>\n<style scoped>\n    .dataframe tbody tr th:only-of-type {\n        vertical-align: middle;\n    }\n\n    .dataframe tbody tr th {\n        vertical-align: top;\n    }\n\n    .dataframe thead th {\n        text-align: right;\n    }\n</style>\n<table border=\"1\" class=\"dataframe\">\n  <thead>\n    <tr style=\"text-align: right;\">\n      <th></th>\n      <th>A</th>\n      <th>B</th>\n      <th>C</th>\n      <th>D</th>\n      <th>E</th>\n    </tr>\n  </thead>\n  <tbody>\n    <tr>\n      <th>2019-01-01</th>\n      <td>-0.226710</td>\n      <td>-2.172492</td>\n      <td>0.342776</td>\n      <td>0.651891</td>\n      <td>one</td>\n    </tr>\n    <tr>\n      <th>2019-01-02</th>\n      <td>0.337910</td>\n      <td>-1.956179</td>\n      <td>-0.346803</td>\n      <td>0.725551</td>\n      <td>one</td>\n    </tr>\n    <tr>\n      <th>2019-01-05</th>\n      <td>1.114094</td>\n      <td>-0.920709</td>\n      <td>-0.064068</td>\n      <td>-0.152234</td>\n      <td>four</td>\n    </tr>\n  </tbody>\n</table>\n</div>"
     },
     "metadata": {},
     "output_type": "execute_result",
     "execution_count": 34
    }
   ],
   "source": [
    "df2[df2['E'].isin(['one', 'four'])]"
   ],
   "metadata": {
    "collapsed": false,
    "pycharm": {
     "name": "#%%\n",
     "is_executing": false
    }
   }
  },
  {
   "cell_type": "code",
   "execution_count": 35,
   "outputs": [
    {
     "data": {
      "text/plain": "                   A         B         C         D\n2019-01-01 -0.226710 -2.172492  0.342776  0.651891\n2019-01-02  0.337910 -1.956179 -0.346803  0.725551\n2019-01-03  0.390363  0.418912 -1.742910  0.068620\n2019-01-04  0.274556  0.638731 -0.400413 -0.224958\n2019-01-05  1.114094 -0.920709 -0.064068 -0.152234\n2019-01-06 -0.140487  1.653017 -1.752702 -0.610021",
      "text/html": "<div>\n<style scoped>\n    .dataframe tbody tr th:only-of-type {\n        vertical-align: middle;\n    }\n\n    .dataframe tbody tr th {\n        vertical-align: top;\n    }\n\n    .dataframe thead th {\n        text-align: right;\n    }\n</style>\n<table border=\"1\" class=\"dataframe\">\n  <thead>\n    <tr style=\"text-align: right;\">\n      <th></th>\n      <th>A</th>\n      <th>B</th>\n      <th>C</th>\n      <th>D</th>\n    </tr>\n  </thead>\n  <tbody>\n    <tr>\n      <th>2019-01-01</th>\n      <td>-0.226710</td>\n      <td>-2.172492</td>\n      <td>0.342776</td>\n      <td>0.651891</td>\n    </tr>\n    <tr>\n      <th>2019-01-02</th>\n      <td>0.337910</td>\n      <td>-1.956179</td>\n      <td>-0.346803</td>\n      <td>0.725551</td>\n    </tr>\n    <tr>\n      <th>2019-01-03</th>\n      <td>0.390363</td>\n      <td>0.418912</td>\n      <td>-1.742910</td>\n      <td>0.068620</td>\n    </tr>\n    <tr>\n      <th>2019-01-04</th>\n      <td>0.274556</td>\n      <td>0.638731</td>\n      <td>-0.400413</td>\n      <td>-0.224958</td>\n    </tr>\n    <tr>\n      <th>2019-01-05</th>\n      <td>1.114094</td>\n      <td>-0.920709</td>\n      <td>-0.064068</td>\n      <td>-0.152234</td>\n    </tr>\n    <tr>\n      <th>2019-01-06</th>\n      <td>-0.140487</td>\n      <td>1.653017</td>\n      <td>-1.752702</td>\n      <td>-0.610021</td>\n    </tr>\n  </tbody>\n</table>\n</div>"
     },
     "metadata": {},
     "output_type": "execute_result",
     "execution_count": 35
    }
   ],
   "source": [
    "df"
   ],
   "metadata": {
    "collapsed": false,
    "pycharm": {
     "name": "#%%\n",
     "is_executing": false
    }
   }
  },
  {
   "cell_type": "code",
   "execution_count": 36,
   "outputs": [
    {
     "data": {
      "text/plain": "2019-01-01    1\n2019-01-02    2\n2019-01-03    3\n2019-01-04    4\n2019-01-05    5\n2019-01-06    6\nFreq: D, dtype: int64"
     },
     "metadata": {},
     "output_type": "execute_result",
     "execution_count": 36
    }
   ],
   "source": [
    "s = pd.Series([1, 2, 3, 4, 5, 6], index=pd.date_range('20190101', periods=6))\n",
    "s"
   ],
   "metadata": {
    "collapsed": false,
    "pycharm": {
     "name": "#%%\n",
     "is_executing": false
    }
   }
  },
  {
   "cell_type": "code",
   "execution_count": 37,
   "outputs": [
    {
     "data": {
      "text/plain": "                   A         B         C         D  E\n2019-01-01 -0.226710 -2.172492  0.342776  0.651891  1\n2019-01-02  0.337910 -1.956179 -0.346803  0.725551  2\n2019-01-03  0.390363  0.418912 -1.742910  0.068620  3\n2019-01-04  0.274556  0.638731 -0.400413 -0.224958  4\n2019-01-05  1.114094 -0.920709 -0.064068 -0.152234  5\n2019-01-06 -0.140487  1.653017 -1.752702 -0.610021  6",
      "text/html": "<div>\n<style scoped>\n    .dataframe tbody tr th:only-of-type {\n        vertical-align: middle;\n    }\n\n    .dataframe tbody tr th {\n        vertical-align: top;\n    }\n\n    .dataframe thead th {\n        text-align: right;\n    }\n</style>\n<table border=\"1\" class=\"dataframe\">\n  <thead>\n    <tr style=\"text-align: right;\">\n      <th></th>\n      <th>A</th>\n      <th>B</th>\n      <th>C</th>\n      <th>D</th>\n      <th>E</th>\n    </tr>\n  </thead>\n  <tbody>\n    <tr>\n      <th>2019-01-01</th>\n      <td>-0.226710</td>\n      <td>-2.172492</td>\n      <td>0.342776</td>\n      <td>0.651891</td>\n      <td>1</td>\n    </tr>\n    <tr>\n      <th>2019-01-02</th>\n      <td>0.337910</td>\n      <td>-1.956179</td>\n      <td>-0.346803</td>\n      <td>0.725551</td>\n      <td>2</td>\n    </tr>\n    <tr>\n      <th>2019-01-03</th>\n      <td>0.390363</td>\n      <td>0.418912</td>\n      <td>-1.742910</td>\n      <td>0.068620</td>\n      <td>3</td>\n    </tr>\n    <tr>\n      <th>2019-01-04</th>\n      <td>0.274556</td>\n      <td>0.638731</td>\n      <td>-0.400413</td>\n      <td>-0.224958</td>\n      <td>4</td>\n    </tr>\n    <tr>\n      <th>2019-01-05</th>\n      <td>1.114094</td>\n      <td>-0.920709</td>\n      <td>-0.064068</td>\n      <td>-0.152234</td>\n      <td>5</td>\n    </tr>\n    <tr>\n      <th>2019-01-06</th>\n      <td>-0.140487</td>\n      <td>1.653017</td>\n      <td>-1.752702</td>\n      <td>-0.610021</td>\n      <td>6</td>\n    </tr>\n  </tbody>\n</table>\n</div>"
     },
     "metadata": {},
     "output_type": "execute_result",
     "execution_count": 37
    }
   ],
   "source": [
    "df['E'] = s\n",
    "df"
   ],
   "metadata": {
    "collapsed": false,
    "pycharm": {
     "name": "#%%\n",
     "is_executing": false
    }
   }
  },
  {
   "cell_type": "code",
   "execution_count": 38,
   "outputs": [
    {
     "data": {
      "text/plain": "                   A         B         C         D    E\n2019-01-01       NaN       NaN       NaN       NaN  NaN\n2019-01-02 -0.226710 -2.172492  0.342776  0.651891  1.0\n2019-01-03  0.337910 -1.956179 -0.346803  0.725551  2.0\n2019-01-04  0.390363  0.418912 -1.742910  0.068620  3.0\n2019-01-05  0.274556  0.638731 -0.400413 -0.224958  4.0\n2019-01-06  1.114094 -0.920709 -0.064068 -0.152234  5.0",
      "text/html": "<div>\n<style scoped>\n    .dataframe tbody tr th:only-of-type {\n        vertical-align: middle;\n    }\n\n    .dataframe tbody tr th {\n        vertical-align: top;\n    }\n\n    .dataframe thead th {\n        text-align: right;\n    }\n</style>\n<table border=\"1\" class=\"dataframe\">\n  <thead>\n    <tr style=\"text-align: right;\">\n      <th></th>\n      <th>A</th>\n      <th>B</th>\n      <th>C</th>\n      <th>D</th>\n      <th>E</th>\n    </tr>\n  </thead>\n  <tbody>\n    <tr>\n      <th>2019-01-01</th>\n      <td>NaN</td>\n      <td>NaN</td>\n      <td>NaN</td>\n      <td>NaN</td>\n      <td>NaN</td>\n    </tr>\n    <tr>\n      <th>2019-01-02</th>\n      <td>-0.226710</td>\n      <td>-2.172492</td>\n      <td>0.342776</td>\n      <td>0.651891</td>\n      <td>1.0</td>\n    </tr>\n    <tr>\n      <th>2019-01-03</th>\n      <td>0.337910</td>\n      <td>-1.956179</td>\n      <td>-0.346803</td>\n      <td>0.725551</td>\n      <td>2.0</td>\n    </tr>\n    <tr>\n      <th>2019-01-04</th>\n      <td>0.390363</td>\n      <td>0.418912</td>\n      <td>-1.742910</td>\n      <td>0.068620</td>\n      <td>3.0</td>\n    </tr>\n    <tr>\n      <th>2019-01-05</th>\n      <td>0.274556</td>\n      <td>0.638731</td>\n      <td>-0.400413</td>\n      <td>-0.224958</td>\n      <td>4.0</td>\n    </tr>\n    <tr>\n      <th>2019-01-06</th>\n      <td>1.114094</td>\n      <td>-0.920709</td>\n      <td>-0.064068</td>\n      <td>-0.152234</td>\n      <td>5.0</td>\n    </tr>\n  </tbody>\n</table>\n</div>"
     },
     "metadata": {},
     "output_type": "execute_result",
     "execution_count": 38
    }
   ],
   "source": [
    "df.shift(1)"
   ],
   "metadata": {
    "collapsed": false,
    "pycharm": {
     "name": "#%%\n",
     "is_executing": false
    }
   }
  },
  {
   "cell_type": "code",
   "execution_count": 39,
   "outputs": [
    {
     "data": {
      "text/plain": "          0         1\n0  1.642695  0.633977\n1 -0.979140  0.862804",
      "text/html": "<div>\n<style scoped>\n    .dataframe tbody tr th:only-of-type {\n        vertical-align: middle;\n    }\n\n    .dataframe tbody tr th {\n        vertical-align: top;\n    }\n\n    .dataframe thead th {\n        text-align: right;\n    }\n</style>\n<table border=\"1\" class=\"dataframe\">\n  <thead>\n    <tr style=\"text-align: right;\">\n      <th></th>\n      <th>0</th>\n      <th>1</th>\n    </tr>\n  </thead>\n  <tbody>\n    <tr>\n      <th>0</th>\n      <td>1.642695</td>\n      <td>0.633977</td>\n    </tr>\n    <tr>\n      <th>1</th>\n      <td>-0.979140</td>\n      <td>0.862804</td>\n    </tr>\n  </tbody>\n</table>\n</div>"
     },
     "metadata": {},
     "output_type": "execute_result",
     "execution_count": 39
    }
   ],
   "source": [
    "df = pd.DataFrame(np.random.randn(2, 2))\n",
    "df"
   ],
   "metadata": {
    "collapsed": false,
    "pycharm": {
     "name": "#%%\n",
     "is_executing": false
    }
   }
  },
  {
   "cell_type": "code",
   "execution_count": 40,
   "outputs": [
    {
     "data": {
      "text/plain": "          0         1\n0  1.642695  0.633977\n1 -0.979140  0.862804\n0  1.642695  0.633977\n1 -0.979140  0.862804",
      "text/html": "<div>\n<style scoped>\n    .dataframe tbody tr th:only-of-type {\n        vertical-align: middle;\n    }\n\n    .dataframe tbody tr th {\n        vertical-align: top;\n    }\n\n    .dataframe thead th {\n        text-align: right;\n    }\n</style>\n<table border=\"1\" class=\"dataframe\">\n  <thead>\n    <tr style=\"text-align: right;\">\n      <th></th>\n      <th>0</th>\n      <th>1</th>\n    </tr>\n  </thead>\n  <tbody>\n    <tr>\n      <th>0</th>\n      <td>1.642695</td>\n      <td>0.633977</td>\n    </tr>\n    <tr>\n      <th>1</th>\n      <td>-0.979140</td>\n      <td>0.862804</td>\n    </tr>\n    <tr>\n      <th>0</th>\n      <td>1.642695</td>\n      <td>0.633977</td>\n    </tr>\n    <tr>\n      <th>1</th>\n      <td>-0.979140</td>\n      <td>0.862804</td>\n    </tr>\n  </tbody>\n</table>\n</div>"
     },
     "metadata": {},
     "output_type": "execute_result",
     "execution_count": 40
    }
   ],
   "source": [
    "pd.concat([df, df])"
   ],
   "metadata": {
    "collapsed": false,
    "pycharm": {
     "name": "#%%\n",
     "is_executing": false
    }
   }
  },
  {
   "cell_type": "code",
   "execution_count": 41,
   "outputs": [
    {
     "data": {
      "text/plain": "          A         B         C         D\n0  0.276600  0.880437  0.541913  0.780432\n1  0.272868  0.001256  0.621236  0.803534\n2  0.865369  0.639706  0.430764  0.708729\n3  0.899043  0.136012  0.214218  0.213279\n4  0.244944  0.847071  0.626636  0.865091\n5  0.255344  0.000333  0.396388  0.132349\n6  0.089569  0.862388  0.151976  0.065509\n7  0.486468  0.787860  0.114102  0.517223",
      "text/html": "<div>\n<style scoped>\n    .dataframe tbody tr th:only-of-type {\n        vertical-align: middle;\n    }\n\n    .dataframe tbody tr th {\n        vertical-align: top;\n    }\n\n    .dataframe thead th {\n        text-align: right;\n    }\n</style>\n<table border=\"1\" class=\"dataframe\">\n  <thead>\n    <tr style=\"text-align: right;\">\n      <th></th>\n      <th>A</th>\n      <th>B</th>\n      <th>C</th>\n      <th>D</th>\n    </tr>\n  </thead>\n  <tbody>\n    <tr>\n      <th>0</th>\n      <td>0.276600</td>\n      <td>0.880437</td>\n      <td>0.541913</td>\n      <td>0.780432</td>\n    </tr>\n    <tr>\n      <th>1</th>\n      <td>0.272868</td>\n      <td>0.001256</td>\n      <td>0.621236</td>\n      <td>0.803534</td>\n    </tr>\n    <tr>\n      <th>2</th>\n      <td>0.865369</td>\n      <td>0.639706</td>\n      <td>0.430764</td>\n      <td>0.708729</td>\n    </tr>\n    <tr>\n      <th>3</th>\n      <td>0.899043</td>\n      <td>0.136012</td>\n      <td>0.214218</td>\n      <td>0.213279</td>\n    </tr>\n    <tr>\n      <th>4</th>\n      <td>0.244944</td>\n      <td>0.847071</td>\n      <td>0.626636</td>\n      <td>0.865091</td>\n    </tr>\n    <tr>\n      <th>5</th>\n      <td>0.255344</td>\n      <td>0.000333</td>\n      <td>0.396388</td>\n      <td>0.132349</td>\n    </tr>\n    <tr>\n      <th>6</th>\n      <td>0.089569</td>\n      <td>0.862388</td>\n      <td>0.151976</td>\n      <td>0.065509</td>\n    </tr>\n    <tr>\n      <th>7</th>\n      <td>0.486468</td>\n      <td>0.787860</td>\n      <td>0.114102</td>\n      <td>0.517223</td>\n    </tr>\n  </tbody>\n</table>\n</div>"
     },
     "metadata": {},
     "output_type": "execute_result",
     "execution_count": 41
    }
   ],
   "source": [
    "df = pd.DataFrame(np.random.rand(8, 4), columns=['A', 'B', 'C', 'D'])\n",
    "df"
   ],
   "metadata": {
    "collapsed": false,
    "pycharm": {
     "name": "#%%\n",
     "is_executing": false
    }
   }
  },
  {
   "cell_type": "code",
   "execution_count": 42,
   "outputs": [
    {
     "data": {
      "text/plain": "A    0.276600\nB    0.880437\nC    0.541913\nD    0.780432\nName: 0, dtype: float64"
     },
     "metadata": {},
     "output_type": "execute_result",
     "execution_count": 42
    }
   ],
   "source": [
    "s = df.iloc[0]\n",
    "s"
   ],
   "metadata": {
    "collapsed": false,
    "pycharm": {
     "name": "#%%\n",
     "is_executing": false
    }
   }
  },
  {
   "cell_type": "code",
   "execution_count": 43,
   "outputs": [
    {
     "data": {
      "text/plain": "          A         B         C         D\n0  0.276600  0.880437  0.541913  0.780432\n1  0.272868  0.001256  0.621236  0.803534\n2  0.865369  0.639706  0.430764  0.708729\n3  0.899043  0.136012  0.214218  0.213279\n4  0.244944  0.847071  0.626636  0.865091\n5  0.255344  0.000333  0.396388  0.132349\n6  0.089569  0.862388  0.151976  0.065509\n7  0.486468  0.787860  0.114102  0.517223\n0  0.276600  0.880437  0.541913  0.780432",
      "text/html": "<div>\n<style scoped>\n    .dataframe tbody tr th:only-of-type {\n        vertical-align: middle;\n    }\n\n    .dataframe tbody tr th {\n        vertical-align: top;\n    }\n\n    .dataframe thead th {\n        text-align: right;\n    }\n</style>\n<table border=\"1\" class=\"dataframe\">\n  <thead>\n    <tr style=\"text-align: right;\">\n      <th></th>\n      <th>A</th>\n      <th>B</th>\n      <th>C</th>\n      <th>D</th>\n    </tr>\n  </thead>\n  <tbody>\n    <tr>\n      <th>0</th>\n      <td>0.276600</td>\n      <td>0.880437</td>\n      <td>0.541913</td>\n      <td>0.780432</td>\n    </tr>\n    <tr>\n      <th>1</th>\n      <td>0.272868</td>\n      <td>0.001256</td>\n      <td>0.621236</td>\n      <td>0.803534</td>\n    </tr>\n    <tr>\n      <th>2</th>\n      <td>0.865369</td>\n      <td>0.639706</td>\n      <td>0.430764</td>\n      <td>0.708729</td>\n    </tr>\n    <tr>\n      <th>3</th>\n      <td>0.899043</td>\n      <td>0.136012</td>\n      <td>0.214218</td>\n      <td>0.213279</td>\n    </tr>\n    <tr>\n      <th>4</th>\n      <td>0.244944</td>\n      <td>0.847071</td>\n      <td>0.626636</td>\n      <td>0.865091</td>\n    </tr>\n    <tr>\n      <th>5</th>\n      <td>0.255344</td>\n      <td>0.000333</td>\n      <td>0.396388</td>\n      <td>0.132349</td>\n    </tr>\n    <tr>\n      <th>6</th>\n      <td>0.089569</td>\n      <td>0.862388</td>\n      <td>0.151976</td>\n      <td>0.065509</td>\n    </tr>\n    <tr>\n      <th>7</th>\n      <td>0.486468</td>\n      <td>0.787860</td>\n      <td>0.114102</td>\n      <td>0.517223</td>\n    </tr>\n    <tr>\n      <th>0</th>\n      <td>0.276600</td>\n      <td>0.880437</td>\n      <td>0.541913</td>\n      <td>0.780432</td>\n    </tr>\n  </tbody>\n</table>\n</div>"
     },
     "metadata": {},
     "output_type": "execute_result",
     "execution_count": 43
    }
   ],
   "source": [
    "df.append(s)"
   ],
   "metadata": {
    "collapsed": false,
    "pycharm": {
     "name": "#%%\n",
     "is_executing": false
    }
   }
  },
  {
   "cell_type": "code",
   "execution_count": 44,
   "outputs": [
    {
     "data": {
      "text/plain": "          A         B         C         D\n0  0.276600  0.880437  0.541913  0.780432\n1  0.272868  0.001256  0.621236  0.803534\n2  0.865369  0.639706  0.430764  0.708729\n3  0.899043  0.136012  0.214218  0.213279\n4  0.244944  0.847071  0.626636  0.865091\n5  0.255344  0.000333  0.396388  0.132349\n6  0.089569  0.862388  0.151976  0.065509\n7  0.486468  0.787860  0.114102  0.517223\n8  0.276600  0.880437  0.541913  0.780432",
      "text/html": "<div>\n<style scoped>\n    .dataframe tbody tr th:only-of-type {\n        vertical-align: middle;\n    }\n\n    .dataframe tbody tr th {\n        vertical-align: top;\n    }\n\n    .dataframe thead th {\n        text-align: right;\n    }\n</style>\n<table border=\"1\" class=\"dataframe\">\n  <thead>\n    <tr style=\"text-align: right;\">\n      <th></th>\n      <th>A</th>\n      <th>B</th>\n      <th>C</th>\n      <th>D</th>\n    </tr>\n  </thead>\n  <tbody>\n    <tr>\n      <th>0</th>\n      <td>0.276600</td>\n      <td>0.880437</td>\n      <td>0.541913</td>\n      <td>0.780432</td>\n    </tr>\n    <tr>\n      <th>1</th>\n      <td>0.272868</td>\n      <td>0.001256</td>\n      <td>0.621236</td>\n      <td>0.803534</td>\n    </tr>\n    <tr>\n      <th>2</th>\n      <td>0.865369</td>\n      <td>0.639706</td>\n      <td>0.430764</td>\n      <td>0.708729</td>\n    </tr>\n    <tr>\n      <th>3</th>\n      <td>0.899043</td>\n      <td>0.136012</td>\n      <td>0.214218</td>\n      <td>0.213279</td>\n    </tr>\n    <tr>\n      <th>4</th>\n      <td>0.244944</td>\n      <td>0.847071</td>\n      <td>0.626636</td>\n      <td>0.865091</td>\n    </tr>\n    <tr>\n      <th>5</th>\n      <td>0.255344</td>\n      <td>0.000333</td>\n      <td>0.396388</td>\n      <td>0.132349</td>\n    </tr>\n    <tr>\n      <th>6</th>\n      <td>0.089569</td>\n      <td>0.862388</td>\n      <td>0.151976</td>\n      <td>0.065509</td>\n    </tr>\n    <tr>\n      <th>7</th>\n      <td>0.486468</td>\n      <td>0.787860</td>\n      <td>0.114102</td>\n      <td>0.517223</td>\n    </tr>\n    <tr>\n      <th>8</th>\n      <td>0.276600</td>\n      <td>0.880437</td>\n      <td>0.541913</td>\n      <td>0.780432</td>\n    </tr>\n  </tbody>\n</table>\n</div>"
     },
     "metadata": {},
     "output_type": "execute_result",
     "execution_count": 44
    }
   ],
   "source": [
    "df.append(s, ignore_index=True)"
   ],
   "metadata": {
    "collapsed": false,
    "pycharm": {
     "name": "#%%\n",
     "is_executing": false
    }
   }
  },
  {
   "cell_type": "code",
   "execution_count": 45,
   "outputs": [
    {
     "data": {
      "text/plain": "     A         B\n0  foo -0.173514\n1  bar  0.306166\n2  foo -0.602419\n3  bar  1.573783",
      "text/html": "<div>\n<style scoped>\n    .dataframe tbody tr th:only-of-type {\n        vertical-align: middle;\n    }\n\n    .dataframe tbody tr th {\n        vertical-align: top;\n    }\n\n    .dataframe thead th {\n        text-align: right;\n    }\n</style>\n<table border=\"1\" class=\"dataframe\">\n  <thead>\n    <tr style=\"text-align: right;\">\n      <th></th>\n      <th>A</th>\n      <th>B</th>\n    </tr>\n  </thead>\n  <tbody>\n    <tr>\n      <th>0</th>\n      <td>foo</td>\n      <td>-0.173514</td>\n    </tr>\n    <tr>\n      <th>1</th>\n      <td>bar</td>\n      <td>0.306166</td>\n    </tr>\n    <tr>\n      <th>2</th>\n      <td>foo</td>\n      <td>-0.602419</td>\n    </tr>\n    <tr>\n      <th>3</th>\n      <td>bar</td>\n      <td>1.573783</td>\n    </tr>\n  </tbody>\n</table>\n</div>"
     },
     "metadata": {},
     "output_type": "execute_result",
     "execution_count": 45
    }
   ],
   "source": [
    "df = pd.DataFrame({'A': ['foo', 'bar', 'foo', 'bar'],\n",
    "                   'B': np.random.randn(4)})\n",
    "df"
   ],
   "metadata": {
    "collapsed": false,
    "pycharm": {
     "name": "#%%\n",
     "is_executing": false
    }
   }
  },
  {
   "cell_type": "code",
   "execution_count": 46,
   "outputs": [
    {
     "data": {
      "text/plain": "            B\nA            \nbar  1.879948\nfoo -0.775933",
      "text/html": "<div>\n<style scoped>\n    .dataframe tbody tr th:only-of-type {\n        vertical-align: middle;\n    }\n\n    .dataframe tbody tr th {\n        vertical-align: top;\n    }\n\n    .dataframe thead th {\n        text-align: right;\n    }\n</style>\n<table border=\"1\" class=\"dataframe\">\n  <thead>\n    <tr style=\"text-align: right;\">\n      <th></th>\n      <th>B</th>\n    </tr>\n    <tr>\n      <th>A</th>\n      <th></th>\n    </tr>\n  </thead>\n  <tbody>\n    <tr>\n      <th>bar</th>\n      <td>1.879948</td>\n    </tr>\n    <tr>\n      <th>foo</th>\n      <td>-0.775933</td>\n    </tr>\n  </tbody>\n</table>\n</div>"
     },
     "metadata": {},
     "output_type": "execute_result",
     "execution_count": 46
    }
   ],
   "source": [
    "df.groupby('A').sum()"
   ],
   "metadata": {
    "collapsed": false,
    "pycharm": {
     "name": "#%%\n",
     "is_executing": false
    }
   }
  },
  {
   "cell_type": "code",
   "execution_count": 47,
   "outputs": [],
   "source": [
    "import pandas_datareader"
   ],
   "metadata": {
    "collapsed": false,
    "pycharm": {
     "name": "#%%\n",
     "is_executing": false
    }
   }
  },
  {
   "cell_type": "code",
   "execution_count": 48,
   "outputs": [
    {
     "data": {
      "text/plain": "                  High         Low        Open       Close       Volume  \\\nDate                                                                      \n2013-12-31   80.182854   79.142860   79.167145   80.145714   55771100.0   \n2014-01-02   79.575714   78.860001   79.382858   79.018570   58671200.0   \n2014-01-03   79.099998   77.204285   78.980003   77.282860   98116900.0   \n2014-01-06   78.114288   76.228569   76.778572   77.704285  103152700.0   \n2014-01-07   77.994286   76.845711   77.760002   77.148575   79302300.0   \n2014-01-08   77.937141   76.955711   76.972855   77.637146   64632400.0   \n2014-01-09   78.122856   76.478569   78.114288   76.645714   69787200.0   \n2014-01-10   77.257141   75.872856   77.118568   76.134285   76244000.0   \n2014-01-13   77.500000   75.697144   75.701431   76.532860   94623200.0   \n2014-01-14   78.104286   76.808571   76.888573   78.055717   83140400.0   \n2014-01-15   80.028572   78.808571   79.074287   79.622856   97909700.0   \n2014-01-16   79.550003   78.811432   79.271431   79.178574   57319500.0   \n2014-01-17   78.867142   77.128571   78.782860   77.238571  106684900.0   \n2014-01-21   78.581429   77.202858   77.284286   78.438568   82131700.0   \n2014-01-22   79.612854   78.258568   78.701431   78.787140   94996300.0   \n2014-01-23   79.500000   77.830002   78.562859   79.454285  100809800.0   \n2014-01-24   79.374283   77.821426   79.142860   78.010002  107338700.0   \n2014-01-27   79.257141   77.964287   78.581429   78.642860  138719700.0   \n2014-01-28   73.571426   71.724289   72.680000   72.357140  266380800.0   \n2014-01-29   72.481430   71.231430   71.992859   71.535713  125702500.0   \n2014-01-30   72.357140   70.957146   71.791428   71.397141  169625400.0   \n2014-01-31   71.647141   70.507141   70.739998   71.514282  116199300.0   \n2014-02-03   72.532860   71.328575   71.801430   71.647141  100366000.0   \n2014-02-04   72.779999   71.822861   72.264282   72.684288   94170300.0   \n2014-02-05   73.611427   72.321426   72.365715   73.227142   82086200.0   \n2014-02-06   73.357140   72.544289   72.865715   73.215714   64441300.0   \n2014-02-07   74.704285   73.911430   74.482857   74.239998   92570100.0   \n2014-02-10   75.998573   74.000000   74.094284   75.570000   86389800.0   \n2014-02-11   76.821426   75.642860   75.801430   76.565712   70564200.0   \n2014-02-12   77.080002   76.177139   76.707146   76.559998   77025200.0   \n...                ...         ...         ...         ...          ...   \n2019-04-18  204.149994  202.520004  203.119995  203.860001   24195800.0   \n2019-04-22  204.940002  202.339996  202.830002  204.529999   19439500.0   \n2019-04-23  207.750000  203.899994  204.429993  207.479996   23323000.0   \n2019-04-24  208.479996  207.050003  207.360001  207.160004   17540600.0   \n2019-04-25  207.759995  205.119995  206.830002  205.279999   18543200.0   \n2019-04-26  205.000000  202.119995  204.899994  204.300003   18649100.0   \n2019-04-29  205.970001  203.860001  204.399994  204.610001   22204700.0   \n2019-04-30  203.399994  199.110001  203.059998  200.669998   46534900.0   \n2019-05-01  215.309998  209.229996  209.880005  210.520004   64827300.0   \n2019-05-02  212.649994  208.130005  209.839996  209.149994   31996300.0   \n2019-05-03  211.839996  210.229996  210.889999  211.750000   20892400.0   \n2019-05-06  208.839996  203.500000  204.289993  208.479996   32443100.0   \n2019-05-07  207.419998  200.830002  205.880005  202.860001   38763700.0   \n2019-05-08  205.339996  201.750000  201.899994  202.899994   26339500.0   \n2019-05-09  201.679993  196.660004  200.399994  200.720001   34908600.0   \n2019-05-10  198.850006  192.770004  197.419998  197.179993   41208700.0   \n2019-05-13  189.479996  182.850006  187.710007  185.720001   57430600.0   \n2019-05-14  189.699997  185.410004  186.410004  188.660004   36529700.0   \n2019-05-15  191.750000  186.020004  186.270004  190.919998   26544700.0   \n2019-05-16  192.470001  188.839996  189.910004  190.080002   33031400.0   \n2019-05-17  190.899994  186.759995  186.929993  189.000000   32879100.0   \n2019-05-20  184.350006  180.279999  183.520004  183.089996   38612300.0   \n2019-05-21  188.000000  184.699997  185.220001  186.600006   28364800.0   \n2019-05-22  185.710007  182.550003  184.660004  182.779999   29748600.0   \n2019-05-23  180.539993  177.809998  179.800003  179.660004   36529700.0   \n2019-05-24  182.139999  178.619995  180.199997  178.970001   23714700.0   \n2019-05-28  180.589996  177.910004  178.919998  178.229996   27948200.0   \n2019-05-29  179.350006  176.000000  176.419998  177.380005   28481200.0   \n2019-05-30  179.229996  176.669998  177.949997  178.300003   21188100.0   \n2019-05-31  177.990005  175.000000  176.229996  175.070007   27043584.0   \n\n             Adj Close  \nDate                    \n2013-12-31   67.658981  \n2014-01-02   66.707436  \n2014-01-03   65.242165  \n2014-01-06   65.597923  \n2014-01-07   65.128777  \n2014-01-08   65.541245  \n2014-01-09   64.704292  \n2014-01-10   64.272545  \n2014-01-13   64.609001  \n2014-01-14   65.894608  \n2014-01-15   67.217575  \n2014-01-16   66.842506  \n2014-01-17   65.204781  \n2014-01-21   66.217789  \n2014-01-22   66.512077  \n2014-01-23   67.075272  \n2014-01-24   65.856003  \n2014-01-27   66.390274  \n2014-01-28   61.083874  \n2014-01-29   60.390423  \n2014-01-30   60.273430  \n2014-01-31   60.372318  \n2014-02-03   60.484482  \n2014-02-04   61.360065  \n2014-02-05   61.818325  \n2014-02-06   64.494965  \n2014-02-07   65.397247  \n2014-02-10   66.568817  \n2014-02-11   67.445953  \n2014-02-12   67.440926  \n...                ...  \n2019-04-18  203.077957  \n2019-04-22  203.745377  \n2019-04-23  206.684052  \n2019-04-24  206.365295  \n2019-04-25  204.492508  \n2019-04-26  203.516266  \n2019-04-29  203.825073  \n2019-04-30  199.900192  \n2019-05-01  209.712402  \n2019-05-02  208.347656  \n2019-05-03  210.937683  \n2019-05-06  207.680222  \n2019-05-07  202.081787  \n2019-05-08  202.121628  \n2019-05-09  199.949997  \n2019-05-10  197.179993  \n2019-05-13  185.720001  \n2019-05-14  188.660004  \n2019-05-15  190.919998  \n2019-05-16  190.080002  \n2019-05-17  189.000000  \n2019-05-20  183.089996  \n2019-05-21  186.600006  \n2019-05-22  182.779999  \n2019-05-23  179.660004  \n2019-05-24  178.970001  \n2019-05-28  178.229996  \n2019-05-29  177.380005  \n2019-05-30  178.300003  \n2019-05-31  175.070007  \n\n[1363 rows x 6 columns]",
      "text/html": "<div>\n<style scoped>\n    .dataframe tbody tr th:only-of-type {\n        vertical-align: middle;\n    }\n\n    .dataframe tbody tr th {\n        vertical-align: top;\n    }\n\n    .dataframe thead th {\n        text-align: right;\n    }\n</style>\n<table border=\"1\" class=\"dataframe\">\n  <thead>\n    <tr style=\"text-align: right;\">\n      <th></th>\n      <th>High</th>\n      <th>Low</th>\n      <th>Open</th>\n      <th>Close</th>\n      <th>Volume</th>\n      <th>Adj Close</th>\n    </tr>\n    <tr>\n      <th>Date</th>\n      <th></th>\n      <th></th>\n      <th></th>\n      <th></th>\n      <th></th>\n      <th></th>\n    </tr>\n  </thead>\n  <tbody>\n    <tr>\n      <th>2013-12-31</th>\n      <td>80.182854</td>\n      <td>79.142860</td>\n      <td>79.167145</td>\n      <td>80.145714</td>\n      <td>55771100.0</td>\n      <td>67.658981</td>\n    </tr>\n    <tr>\n      <th>2014-01-02</th>\n      <td>79.575714</td>\n      <td>78.860001</td>\n      <td>79.382858</td>\n      <td>79.018570</td>\n      <td>58671200.0</td>\n      <td>66.707436</td>\n    </tr>\n    <tr>\n      <th>2014-01-03</th>\n      <td>79.099998</td>\n      <td>77.204285</td>\n      <td>78.980003</td>\n      <td>77.282860</td>\n      <td>98116900.0</td>\n      <td>65.242165</td>\n    </tr>\n    <tr>\n      <th>2014-01-06</th>\n      <td>78.114288</td>\n      <td>76.228569</td>\n      <td>76.778572</td>\n      <td>77.704285</td>\n      <td>103152700.0</td>\n      <td>65.597923</td>\n    </tr>\n    <tr>\n      <th>2014-01-07</th>\n      <td>77.994286</td>\n      <td>76.845711</td>\n      <td>77.760002</td>\n      <td>77.148575</td>\n      <td>79302300.0</td>\n      <td>65.128777</td>\n    </tr>\n    <tr>\n      <th>2014-01-08</th>\n      <td>77.937141</td>\n      <td>76.955711</td>\n      <td>76.972855</td>\n      <td>77.637146</td>\n      <td>64632400.0</td>\n      <td>65.541245</td>\n    </tr>\n    <tr>\n      <th>2014-01-09</th>\n      <td>78.122856</td>\n      <td>76.478569</td>\n      <td>78.114288</td>\n      <td>76.645714</td>\n      <td>69787200.0</td>\n      <td>64.704292</td>\n    </tr>\n    <tr>\n      <th>2014-01-10</th>\n      <td>77.257141</td>\n      <td>75.872856</td>\n      <td>77.118568</td>\n      <td>76.134285</td>\n      <td>76244000.0</td>\n      <td>64.272545</td>\n    </tr>\n    <tr>\n      <th>2014-01-13</th>\n      <td>77.500000</td>\n      <td>75.697144</td>\n      <td>75.701431</td>\n      <td>76.532860</td>\n      <td>94623200.0</td>\n      <td>64.609001</td>\n    </tr>\n    <tr>\n      <th>2014-01-14</th>\n      <td>78.104286</td>\n      <td>76.808571</td>\n      <td>76.888573</td>\n      <td>78.055717</td>\n      <td>83140400.0</td>\n      <td>65.894608</td>\n    </tr>\n    <tr>\n      <th>2014-01-15</th>\n      <td>80.028572</td>\n      <td>78.808571</td>\n      <td>79.074287</td>\n      <td>79.622856</td>\n      <td>97909700.0</td>\n      <td>67.217575</td>\n    </tr>\n    <tr>\n      <th>2014-01-16</th>\n      <td>79.550003</td>\n      <td>78.811432</td>\n      <td>79.271431</td>\n      <td>79.178574</td>\n      <td>57319500.0</td>\n      <td>66.842506</td>\n    </tr>\n    <tr>\n      <th>2014-01-17</th>\n      <td>78.867142</td>\n      <td>77.128571</td>\n      <td>78.782860</td>\n      <td>77.238571</td>\n      <td>106684900.0</td>\n      <td>65.204781</td>\n    </tr>\n    <tr>\n      <th>2014-01-21</th>\n      <td>78.581429</td>\n      <td>77.202858</td>\n      <td>77.284286</td>\n      <td>78.438568</td>\n      <td>82131700.0</td>\n      <td>66.217789</td>\n    </tr>\n    <tr>\n      <th>2014-01-22</th>\n      <td>79.612854</td>\n      <td>78.258568</td>\n      <td>78.701431</td>\n      <td>78.787140</td>\n      <td>94996300.0</td>\n      <td>66.512077</td>\n    </tr>\n    <tr>\n      <th>2014-01-23</th>\n      <td>79.500000</td>\n      <td>77.830002</td>\n      <td>78.562859</td>\n      <td>79.454285</td>\n      <td>100809800.0</td>\n      <td>67.075272</td>\n    </tr>\n    <tr>\n      <th>2014-01-24</th>\n      <td>79.374283</td>\n      <td>77.821426</td>\n      <td>79.142860</td>\n      <td>78.010002</td>\n      <td>107338700.0</td>\n      <td>65.856003</td>\n    </tr>\n    <tr>\n      <th>2014-01-27</th>\n      <td>79.257141</td>\n      <td>77.964287</td>\n      <td>78.581429</td>\n      <td>78.642860</td>\n      <td>138719700.0</td>\n      <td>66.390274</td>\n    </tr>\n    <tr>\n      <th>2014-01-28</th>\n      <td>73.571426</td>\n      <td>71.724289</td>\n      <td>72.680000</td>\n      <td>72.357140</td>\n      <td>266380800.0</td>\n      <td>61.083874</td>\n    </tr>\n    <tr>\n      <th>2014-01-29</th>\n      <td>72.481430</td>\n      <td>71.231430</td>\n      <td>71.992859</td>\n      <td>71.535713</td>\n      <td>125702500.0</td>\n      <td>60.390423</td>\n    </tr>\n    <tr>\n      <th>2014-01-30</th>\n      <td>72.357140</td>\n      <td>70.957146</td>\n      <td>71.791428</td>\n      <td>71.397141</td>\n      <td>169625400.0</td>\n      <td>60.273430</td>\n    </tr>\n    <tr>\n      <th>2014-01-31</th>\n      <td>71.647141</td>\n      <td>70.507141</td>\n      <td>70.739998</td>\n      <td>71.514282</td>\n      <td>116199300.0</td>\n      <td>60.372318</td>\n    </tr>\n    <tr>\n      <th>2014-02-03</th>\n      <td>72.532860</td>\n      <td>71.328575</td>\n      <td>71.801430</td>\n      <td>71.647141</td>\n      <td>100366000.0</td>\n      <td>60.484482</td>\n    </tr>\n    <tr>\n      <th>2014-02-04</th>\n      <td>72.779999</td>\n      <td>71.822861</td>\n      <td>72.264282</td>\n      <td>72.684288</td>\n      <td>94170300.0</td>\n      <td>61.360065</td>\n    </tr>\n    <tr>\n      <th>2014-02-05</th>\n      <td>73.611427</td>\n      <td>72.321426</td>\n      <td>72.365715</td>\n      <td>73.227142</td>\n      <td>82086200.0</td>\n      <td>61.818325</td>\n    </tr>\n    <tr>\n      <th>2014-02-06</th>\n      <td>73.357140</td>\n      <td>72.544289</td>\n      <td>72.865715</td>\n      <td>73.215714</td>\n      <td>64441300.0</td>\n      <td>64.494965</td>\n    </tr>\n    <tr>\n      <th>2014-02-07</th>\n      <td>74.704285</td>\n      <td>73.911430</td>\n      <td>74.482857</td>\n      <td>74.239998</td>\n      <td>92570100.0</td>\n      <td>65.397247</td>\n    </tr>\n    <tr>\n      <th>2014-02-10</th>\n      <td>75.998573</td>\n      <td>74.000000</td>\n      <td>74.094284</td>\n      <td>75.570000</td>\n      <td>86389800.0</td>\n      <td>66.568817</td>\n    </tr>\n    <tr>\n      <th>2014-02-11</th>\n      <td>76.821426</td>\n      <td>75.642860</td>\n      <td>75.801430</td>\n      <td>76.565712</td>\n      <td>70564200.0</td>\n      <td>67.445953</td>\n    </tr>\n    <tr>\n      <th>2014-02-12</th>\n      <td>77.080002</td>\n      <td>76.177139</td>\n      <td>76.707146</td>\n      <td>76.559998</td>\n      <td>77025200.0</td>\n      <td>67.440926</td>\n    </tr>\n    <tr>\n      <th>...</th>\n      <td>...</td>\n      <td>...</td>\n      <td>...</td>\n      <td>...</td>\n      <td>...</td>\n      <td>...</td>\n    </tr>\n    <tr>\n      <th>2019-04-18</th>\n      <td>204.149994</td>\n      <td>202.520004</td>\n      <td>203.119995</td>\n      <td>203.860001</td>\n      <td>24195800.0</td>\n      <td>203.077957</td>\n    </tr>\n    <tr>\n      <th>2019-04-22</th>\n      <td>204.940002</td>\n      <td>202.339996</td>\n      <td>202.830002</td>\n      <td>204.529999</td>\n      <td>19439500.0</td>\n      <td>203.745377</td>\n    </tr>\n    <tr>\n      <th>2019-04-23</th>\n      <td>207.750000</td>\n      <td>203.899994</td>\n      <td>204.429993</td>\n      <td>207.479996</td>\n      <td>23323000.0</td>\n      <td>206.684052</td>\n    </tr>\n    <tr>\n      <th>2019-04-24</th>\n      <td>208.479996</td>\n      <td>207.050003</td>\n      <td>207.360001</td>\n      <td>207.160004</td>\n      <td>17540600.0</td>\n      <td>206.365295</td>\n    </tr>\n    <tr>\n      <th>2019-04-25</th>\n      <td>207.759995</td>\n      <td>205.119995</td>\n      <td>206.830002</td>\n      <td>205.279999</td>\n      <td>18543200.0</td>\n      <td>204.492508</td>\n    </tr>\n    <tr>\n      <th>2019-04-26</th>\n      <td>205.000000</td>\n      <td>202.119995</td>\n      <td>204.899994</td>\n      <td>204.300003</td>\n      <td>18649100.0</td>\n      <td>203.516266</td>\n    </tr>\n    <tr>\n      <th>2019-04-29</th>\n      <td>205.970001</td>\n      <td>203.860001</td>\n      <td>204.399994</td>\n      <td>204.610001</td>\n      <td>22204700.0</td>\n      <td>203.825073</td>\n    </tr>\n    <tr>\n      <th>2019-04-30</th>\n      <td>203.399994</td>\n      <td>199.110001</td>\n      <td>203.059998</td>\n      <td>200.669998</td>\n      <td>46534900.0</td>\n      <td>199.900192</td>\n    </tr>\n    <tr>\n      <th>2019-05-01</th>\n      <td>215.309998</td>\n      <td>209.229996</td>\n      <td>209.880005</td>\n      <td>210.520004</td>\n      <td>64827300.0</td>\n      <td>209.712402</td>\n    </tr>\n    <tr>\n      <th>2019-05-02</th>\n      <td>212.649994</td>\n      <td>208.130005</td>\n      <td>209.839996</td>\n      <td>209.149994</td>\n      <td>31996300.0</td>\n      <td>208.347656</td>\n    </tr>\n    <tr>\n      <th>2019-05-03</th>\n      <td>211.839996</td>\n      <td>210.229996</td>\n      <td>210.889999</td>\n      <td>211.750000</td>\n      <td>20892400.0</td>\n      <td>210.937683</td>\n    </tr>\n    <tr>\n      <th>2019-05-06</th>\n      <td>208.839996</td>\n      <td>203.500000</td>\n      <td>204.289993</td>\n      <td>208.479996</td>\n      <td>32443100.0</td>\n      <td>207.680222</td>\n    </tr>\n    <tr>\n      <th>2019-05-07</th>\n      <td>207.419998</td>\n      <td>200.830002</td>\n      <td>205.880005</td>\n      <td>202.860001</td>\n      <td>38763700.0</td>\n      <td>202.081787</td>\n    </tr>\n    <tr>\n      <th>2019-05-08</th>\n      <td>205.339996</td>\n      <td>201.750000</td>\n      <td>201.899994</td>\n      <td>202.899994</td>\n      <td>26339500.0</td>\n      <td>202.121628</td>\n    </tr>\n    <tr>\n      <th>2019-05-09</th>\n      <td>201.679993</td>\n      <td>196.660004</td>\n      <td>200.399994</td>\n      <td>200.720001</td>\n      <td>34908600.0</td>\n      <td>199.949997</td>\n    </tr>\n    <tr>\n      <th>2019-05-10</th>\n      <td>198.850006</td>\n      <td>192.770004</td>\n      <td>197.419998</td>\n      <td>197.179993</td>\n      <td>41208700.0</td>\n      <td>197.179993</td>\n    </tr>\n    <tr>\n      <th>2019-05-13</th>\n      <td>189.479996</td>\n      <td>182.850006</td>\n      <td>187.710007</td>\n      <td>185.720001</td>\n      <td>57430600.0</td>\n      <td>185.720001</td>\n    </tr>\n    <tr>\n      <th>2019-05-14</th>\n      <td>189.699997</td>\n      <td>185.410004</td>\n      <td>186.410004</td>\n      <td>188.660004</td>\n      <td>36529700.0</td>\n      <td>188.660004</td>\n    </tr>\n    <tr>\n      <th>2019-05-15</th>\n      <td>191.750000</td>\n      <td>186.020004</td>\n      <td>186.270004</td>\n      <td>190.919998</td>\n      <td>26544700.0</td>\n      <td>190.919998</td>\n    </tr>\n    <tr>\n      <th>2019-05-16</th>\n      <td>192.470001</td>\n      <td>188.839996</td>\n      <td>189.910004</td>\n      <td>190.080002</td>\n      <td>33031400.0</td>\n      <td>190.080002</td>\n    </tr>\n    <tr>\n      <th>2019-05-17</th>\n      <td>190.899994</td>\n      <td>186.759995</td>\n      <td>186.929993</td>\n      <td>189.000000</td>\n      <td>32879100.0</td>\n      <td>189.000000</td>\n    </tr>\n    <tr>\n      <th>2019-05-20</th>\n      <td>184.350006</td>\n      <td>180.279999</td>\n      <td>183.520004</td>\n      <td>183.089996</td>\n      <td>38612300.0</td>\n      <td>183.089996</td>\n    </tr>\n    <tr>\n      <th>2019-05-21</th>\n      <td>188.000000</td>\n      <td>184.699997</td>\n      <td>185.220001</td>\n      <td>186.600006</td>\n      <td>28364800.0</td>\n      <td>186.600006</td>\n    </tr>\n    <tr>\n      <th>2019-05-22</th>\n      <td>185.710007</td>\n      <td>182.550003</td>\n      <td>184.660004</td>\n      <td>182.779999</td>\n      <td>29748600.0</td>\n      <td>182.779999</td>\n    </tr>\n    <tr>\n      <th>2019-05-23</th>\n      <td>180.539993</td>\n      <td>177.809998</td>\n      <td>179.800003</td>\n      <td>179.660004</td>\n      <td>36529700.0</td>\n      <td>179.660004</td>\n    </tr>\n    <tr>\n      <th>2019-05-24</th>\n      <td>182.139999</td>\n      <td>178.619995</td>\n      <td>180.199997</td>\n      <td>178.970001</td>\n      <td>23714700.0</td>\n      <td>178.970001</td>\n    </tr>\n    <tr>\n      <th>2019-05-28</th>\n      <td>180.589996</td>\n      <td>177.910004</td>\n      <td>178.919998</td>\n      <td>178.229996</td>\n      <td>27948200.0</td>\n      <td>178.229996</td>\n    </tr>\n    <tr>\n      <th>2019-05-29</th>\n      <td>179.350006</td>\n      <td>176.000000</td>\n      <td>176.419998</td>\n      <td>177.380005</td>\n      <td>28481200.0</td>\n      <td>177.380005</td>\n    </tr>\n    <tr>\n      <th>2019-05-30</th>\n      <td>179.229996</td>\n      <td>176.669998</td>\n      <td>177.949997</td>\n      <td>178.300003</td>\n      <td>21188100.0</td>\n      <td>178.300003</td>\n    </tr>\n    <tr>\n      <th>2019-05-31</th>\n      <td>177.990005</td>\n      <td>175.000000</td>\n      <td>176.229996</td>\n      <td>175.070007</td>\n      <td>27043584.0</td>\n      <td>175.070007</td>\n    </tr>\n  </tbody>\n</table>\n<p>1363 rows × 6 columns</p>\n</div>"
     },
     "metadata": {},
     "output_type": "execute_result",
     "execution_count": 48
    }
   ],
   "source": [
    "df = pandas_datareader.data.DataReader('AAPL', 'yahoo', '2014-01-01')\n",
    "df"
   ],
   "metadata": {
    "collapsed": false,
    "pycharm": {
     "name": "#%%\n",
     "is_executing": false
    }
   }
  },
  {
   "cell_type": "code",
   "execution_count": 57,
   "outputs": [
    {
     "data": {
      "text/plain": "                 High       Low       Open      Close      Volume  Adj Close\nDate                                                                        \n2013-12-31  80.182854  79.14286  79.167145  80.145714  55771100.0  67.658981",
      "text/html": "<div>\n<style scoped>\n    .dataframe tbody tr th:only-of-type {\n        vertical-align: middle;\n    }\n\n    .dataframe tbody tr th {\n        vertical-align: top;\n    }\n\n    .dataframe thead th {\n        text-align: right;\n    }\n</style>\n<table border=\"1\" class=\"dataframe\">\n  <thead>\n    <tr style=\"text-align: right;\">\n      <th></th>\n      <th>High</th>\n      <th>Low</th>\n      <th>Open</th>\n      <th>Close</th>\n      <th>Volume</th>\n      <th>Adj Close</th>\n    </tr>\n    <tr>\n      <th>Date</th>\n      <th></th>\n      <th></th>\n      <th></th>\n      <th></th>\n      <th></th>\n      <th></th>\n    </tr>\n  </thead>\n  <tbody>\n    <tr>\n      <th>2013-12-31</th>\n      <td>80.182854</td>\n      <td>79.14286</td>\n      <td>79.167145</td>\n      <td>80.145714</td>\n      <td>55771100.0</td>\n      <td>67.658981</td>\n    </tr>\n  </tbody>\n</table>\n</div>"
     },
     "metadata": {},
     "output_type": "execute_result",
     "execution_count": 57
    }
   ],
   "source": [
    "df.head(1)"
   ],
   "metadata": {
    "collapsed": false,
    "pycharm": {
     "name": "#%%\n",
     "is_executing": false
    }
   }
  },
  {
   "cell_type": "code",
   "execution_count": null,
   "outputs": [],
   "source": [
    "\n"
   ],
   "metadata": {
    "collapsed": false,
    "pycharm": {
     "name": "#%%\n"
    }
   }
  }
 ],
 "metadata": {
  "language_info": {
   "codemirror_mode": {
    "name": "ipython",
    "version": 2
   },
   "file_extension": ".py",
   "mimetype": "text/x-python",
   "name": "python",
   "nbconvert_exporter": "python",
   "pygments_lexer": "ipython2",
   "version": "2.7.6"
  },
  "kernelspec": {
   "name": "python3",
   "language": "python",
   "display_name": "Python 3"
  },
  "pycharm": {
   "stem_cell": {
    "cell_type": "raw",
    "source": [],
    "metadata": {
     "collapsed": false
    }
   }
  }
 },
 "nbformat": 4,
 "nbformat_minor": 0
}